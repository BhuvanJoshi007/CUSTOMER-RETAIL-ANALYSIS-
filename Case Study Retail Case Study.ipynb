{
 "cells": [
  {
   "cell_type": "markdown",
   "id": "2bbc4e79",
   "metadata": {},
   "source": [
    "Create a report and display the below calculated metrics, reports and inferences.\n",
    "\n",
    "1. Merge the datasets Customers, Product Hierarchy and Transactions as Customer_Final. Ensure to keep all customers who have done transactions with us and select the join type accordingly.\n",
    "\n",
    "2. Prepare a summary report for the merged data set.\n",
    " a. Get the column names and their corresponding data types\n",
    " b. Top/Bottom 10 observations\n",
    " c. “Five-number summary” for continuous variables (min, Q1, median, Q3 and max)\n",
    " d. Frequency tables for all the categorical variables\n",
    "\n",
    "3. Generate histograms for all continuous variables and frequency bars for categorical variables.\n",
    "\n",
    "4. Calculate the following information using the merged dataset :\n",
    " a. Time period of the available transaction data\n",
    " b. Count of transactions where the total amount of transaction was negative\n",
    "\n",
    "5. Analyze which product categories are more popular among females vs male customers.\n",
    "\n",
    "6. Which City code has the maximum customers and what was the percentage of customers from that city?\n",
    "\n",
    "7. Which store type sells the maximum products by value and by quantity?\n",
    "\n",
    "8. What was the total amount earned from the \"Electronics\" and \"Clothing\" categories from Flagship Stores?\n",
    "\n",
    "9. What was the total amount earned from \"Male\" customers under the \"Electronics\" category?\n",
    "\n",
    "10. How many customers have more than 10 unique transactions, after removing all transactions which have any negative amounts?\n",
    "\n",
    "11. For all customers aged between 25 - 35, find out:\n",
    " a. What was the total amount spent for “Electronics” and “Books” product categories?\n",
    " b. What was the total amount spent by these customers between 1st Jan, 2014 to 1st Mar, 2014?"
   ]
  },
  {
   "cell_type": "code",
   "execution_count": 1,
   "id": "b823733c",
   "metadata": {},
   "outputs": [],
   "source": [
    "import pandas as pd\n",
    "import numpy as np\n",
    "import matplotlib.pyplot as plt\n",
    "import datetime as dt\n",
    "import seaborn as sns\n",
    "import re\n",
    "\n",
    "# set the graphs to show in the jupyter notebook\n",
    "%matplotlib inline"
   ]
  },
  {
   "cell_type": "code",
   "execution_count": 2,
   "id": "6010d6cd",
   "metadata": {},
   "outputs": [],
   "source": [
    "source = 'E:/Analytics Labs/python_CaseStudy/Python Foundation Case Study 1 - Retail Case Study/'\n",
    "Customer = pd.read_csv(source+'Customer.csv')\n",
    "prod_cat_info = pd.read_csv(source+'prod_cat_info.csv')\n",
    "Transactions = pd.read_csv(source+'Transactions.csv')"
   ]
  },
  {
   "cell_type": "code",
   "execution_count": 3,
   "id": "5244e239",
   "metadata": {
    "scrolled": false
   },
   "outputs": [
    {
     "data": {
      "text/html": [
       "<div>\n",
       "<style scoped>\n",
       "    .dataframe tbody tr th:only-of-type {\n",
       "        vertical-align: middle;\n",
       "    }\n",
       "\n",
       "    .dataframe tbody tr th {\n",
       "        vertical-align: top;\n",
       "    }\n",
       "\n",
       "    .dataframe thead th {\n",
       "        text-align: right;\n",
       "    }\n",
       "</style>\n",
       "<table border=\"1\" class=\"dataframe\">\n",
       "  <thead>\n",
       "    <tr style=\"text-align: right;\">\n",
       "      <th></th>\n",
       "      <th>customer_Id</th>\n",
       "      <th>DOB</th>\n",
       "      <th>Gender</th>\n",
       "      <th>city_code</th>\n",
       "    </tr>\n",
       "  </thead>\n",
       "  <tbody>\n",
       "    <tr>\n",
       "      <th>0</th>\n",
       "      <td>268408</td>\n",
       "      <td>02-01-1970</td>\n",
       "      <td>M</td>\n",
       "      <td>4.0</td>\n",
       "    </tr>\n",
       "    <tr>\n",
       "      <th>1</th>\n",
       "      <td>269696</td>\n",
       "      <td>07-01-1970</td>\n",
       "      <td>F</td>\n",
       "      <td>8.0</td>\n",
       "    </tr>\n",
       "    <tr>\n",
       "      <th>2</th>\n",
       "      <td>268159</td>\n",
       "      <td>08-01-1970</td>\n",
       "      <td>F</td>\n",
       "      <td>8.0</td>\n",
       "    </tr>\n",
       "    <tr>\n",
       "      <th>3</th>\n",
       "      <td>270181</td>\n",
       "      <td>10-01-1970</td>\n",
       "      <td>F</td>\n",
       "      <td>2.0</td>\n",
       "    </tr>\n",
       "    <tr>\n",
       "      <th>4</th>\n",
       "      <td>268073</td>\n",
       "      <td>11-01-1970</td>\n",
       "      <td>M</td>\n",
       "      <td>1.0</td>\n",
       "    </tr>\n",
       "    <tr>\n",
       "      <th>...</th>\n",
       "      <td>...</td>\n",
       "      <td>...</td>\n",
       "      <td>...</td>\n",
       "      <td>...</td>\n",
       "    </tr>\n",
       "    <tr>\n",
       "      <th>5642</th>\n",
       "      <td>274474</td>\n",
       "      <td>19-12-1992</td>\n",
       "      <td>M</td>\n",
       "      <td>2.0</td>\n",
       "    </tr>\n",
       "    <tr>\n",
       "      <th>5643</th>\n",
       "      <td>267666</td>\n",
       "      <td>24-12-1992</td>\n",
       "      <td>M</td>\n",
       "      <td>6.0</td>\n",
       "    </tr>\n",
       "    <tr>\n",
       "      <th>5644</th>\n",
       "      <td>270476</td>\n",
       "      <td>25-12-1992</td>\n",
       "      <td>F</td>\n",
       "      <td>3.0</td>\n",
       "    </tr>\n",
       "    <tr>\n",
       "      <th>5645</th>\n",
       "      <td>269626</td>\n",
       "      <td>27-12-1992</td>\n",
       "      <td>F</td>\n",
       "      <td>5.0</td>\n",
       "    </tr>\n",
       "    <tr>\n",
       "      <th>5646</th>\n",
       "      <td>274308</td>\n",
       "      <td>29-12-1992</td>\n",
       "      <td>F</td>\n",
       "      <td>5.0</td>\n",
       "    </tr>\n",
       "  </tbody>\n",
       "</table>\n",
       "<p>5647 rows × 4 columns</p>\n",
       "</div>"
      ],
      "text/plain": [
       "      customer_Id         DOB Gender  city_code\n",
       "0          268408  02-01-1970      M        4.0\n",
       "1          269696  07-01-1970      F        8.0\n",
       "2          268159  08-01-1970      F        8.0\n",
       "3          270181  10-01-1970      F        2.0\n",
       "4          268073  11-01-1970      M        1.0\n",
       "...           ...         ...    ...        ...\n",
       "5642       274474  19-12-1992      M        2.0\n",
       "5643       267666  24-12-1992      M        6.0\n",
       "5644       270476  25-12-1992      F        3.0\n",
       "5645       269626  27-12-1992      F        5.0\n",
       "5646       274308  29-12-1992      F        5.0\n",
       "\n",
       "[5647 rows x 4 columns]"
      ]
     },
     "execution_count": 3,
     "metadata": {},
     "output_type": "execute_result"
    }
   ],
   "source": [
    "Customer"
   ]
  },
  {
   "cell_type": "code",
   "execution_count": 4,
   "id": "c219e706",
   "metadata": {
    "scrolled": false
   },
   "outputs": [
    {
     "data": {
      "text/html": [
       "<div>\n",
       "<style scoped>\n",
       "    .dataframe tbody tr th:only-of-type {\n",
       "        vertical-align: middle;\n",
       "    }\n",
       "\n",
       "    .dataframe tbody tr th {\n",
       "        vertical-align: top;\n",
       "    }\n",
       "\n",
       "    .dataframe thead th {\n",
       "        text-align: right;\n",
       "    }\n",
       "</style>\n",
       "<table border=\"1\" class=\"dataframe\">\n",
       "  <thead>\n",
       "    <tr style=\"text-align: right;\">\n",
       "      <th></th>\n",
       "      <th>prod_cat_code</th>\n",
       "      <th>prod_cat</th>\n",
       "      <th>prod_sub_cat_code</th>\n",
       "      <th>prod_subcat</th>\n",
       "    </tr>\n",
       "  </thead>\n",
       "  <tbody>\n",
       "    <tr>\n",
       "      <th>0</th>\n",
       "      <td>1</td>\n",
       "      <td>Clothing</td>\n",
       "      <td>4</td>\n",
       "      <td>Mens</td>\n",
       "    </tr>\n",
       "    <tr>\n",
       "      <th>1</th>\n",
       "      <td>1</td>\n",
       "      <td>Clothing</td>\n",
       "      <td>1</td>\n",
       "      <td>Women</td>\n",
       "    </tr>\n",
       "    <tr>\n",
       "      <th>2</th>\n",
       "      <td>1</td>\n",
       "      <td>Clothing</td>\n",
       "      <td>3</td>\n",
       "      <td>Kids</td>\n",
       "    </tr>\n",
       "    <tr>\n",
       "      <th>3</th>\n",
       "      <td>2</td>\n",
       "      <td>Footwear</td>\n",
       "      <td>1</td>\n",
       "      <td>Mens</td>\n",
       "    </tr>\n",
       "    <tr>\n",
       "      <th>4</th>\n",
       "      <td>2</td>\n",
       "      <td>Footwear</td>\n",
       "      <td>3</td>\n",
       "      <td>Women</td>\n",
       "    </tr>\n",
       "    <tr>\n",
       "      <th>5</th>\n",
       "      <td>2</td>\n",
       "      <td>Footwear</td>\n",
       "      <td>4</td>\n",
       "      <td>Kids</td>\n",
       "    </tr>\n",
       "    <tr>\n",
       "      <th>6</th>\n",
       "      <td>3</td>\n",
       "      <td>Electronics</td>\n",
       "      <td>4</td>\n",
       "      <td>Mobiles</td>\n",
       "    </tr>\n",
       "    <tr>\n",
       "      <th>7</th>\n",
       "      <td>3</td>\n",
       "      <td>Electronics</td>\n",
       "      <td>5</td>\n",
       "      <td>Computers</td>\n",
       "    </tr>\n",
       "    <tr>\n",
       "      <th>8</th>\n",
       "      <td>3</td>\n",
       "      <td>Electronics</td>\n",
       "      <td>8</td>\n",
       "      <td>Personal Appliances</td>\n",
       "    </tr>\n",
       "    <tr>\n",
       "      <th>9</th>\n",
       "      <td>3</td>\n",
       "      <td>Electronics</td>\n",
       "      <td>9</td>\n",
       "      <td>Cameras</td>\n",
       "    </tr>\n",
       "    <tr>\n",
       "      <th>10</th>\n",
       "      <td>3</td>\n",
       "      <td>Electronics</td>\n",
       "      <td>10</td>\n",
       "      <td>Audio and video</td>\n",
       "    </tr>\n",
       "    <tr>\n",
       "      <th>11</th>\n",
       "      <td>4</td>\n",
       "      <td>Bags</td>\n",
       "      <td>1</td>\n",
       "      <td>Mens</td>\n",
       "    </tr>\n",
       "    <tr>\n",
       "      <th>12</th>\n",
       "      <td>4</td>\n",
       "      <td>Bags</td>\n",
       "      <td>4</td>\n",
       "      <td>Women</td>\n",
       "    </tr>\n",
       "    <tr>\n",
       "      <th>13</th>\n",
       "      <td>5</td>\n",
       "      <td>Books</td>\n",
       "      <td>7</td>\n",
       "      <td>Fiction</td>\n",
       "    </tr>\n",
       "    <tr>\n",
       "      <th>14</th>\n",
       "      <td>5</td>\n",
       "      <td>Books</td>\n",
       "      <td>12</td>\n",
       "      <td>Academic</td>\n",
       "    </tr>\n",
       "    <tr>\n",
       "      <th>15</th>\n",
       "      <td>5</td>\n",
       "      <td>Books</td>\n",
       "      <td>10</td>\n",
       "      <td>Non-Fiction</td>\n",
       "    </tr>\n",
       "    <tr>\n",
       "      <th>16</th>\n",
       "      <td>5</td>\n",
       "      <td>Books</td>\n",
       "      <td>11</td>\n",
       "      <td>Children</td>\n",
       "    </tr>\n",
       "    <tr>\n",
       "      <th>17</th>\n",
       "      <td>5</td>\n",
       "      <td>Books</td>\n",
       "      <td>3</td>\n",
       "      <td>Comics</td>\n",
       "    </tr>\n",
       "    <tr>\n",
       "      <th>18</th>\n",
       "      <td>5</td>\n",
       "      <td>Books</td>\n",
       "      <td>6</td>\n",
       "      <td>DIY</td>\n",
       "    </tr>\n",
       "    <tr>\n",
       "      <th>19</th>\n",
       "      <td>6</td>\n",
       "      <td>Home and kitchen</td>\n",
       "      <td>2</td>\n",
       "      <td>Furnishing</td>\n",
       "    </tr>\n",
       "    <tr>\n",
       "      <th>20</th>\n",
       "      <td>6</td>\n",
       "      <td>Home and kitchen</td>\n",
       "      <td>10</td>\n",
       "      <td>Kitchen</td>\n",
       "    </tr>\n",
       "    <tr>\n",
       "      <th>21</th>\n",
       "      <td>6</td>\n",
       "      <td>Home and kitchen</td>\n",
       "      <td>11</td>\n",
       "      <td>Bath</td>\n",
       "    </tr>\n",
       "    <tr>\n",
       "      <th>22</th>\n",
       "      <td>6</td>\n",
       "      <td>Home and kitchen</td>\n",
       "      <td>12</td>\n",
       "      <td>Tools</td>\n",
       "    </tr>\n",
       "  </tbody>\n",
       "</table>\n",
       "</div>"
      ],
      "text/plain": [
       "    prod_cat_code          prod_cat  prod_sub_cat_code          prod_subcat\n",
       "0               1          Clothing                  4                 Mens\n",
       "1               1          Clothing                  1                Women\n",
       "2               1          Clothing                  3                 Kids\n",
       "3               2          Footwear                  1                 Mens\n",
       "4               2          Footwear                  3                Women\n",
       "5               2          Footwear                  4                 Kids\n",
       "6               3       Electronics                  4              Mobiles\n",
       "7               3       Electronics                  5            Computers\n",
       "8               3       Electronics                  8  Personal Appliances\n",
       "9               3       Electronics                  9              Cameras\n",
       "10              3       Electronics                 10      Audio and video\n",
       "11              4              Bags                  1                 Mens\n",
       "12              4              Bags                  4                Women\n",
       "13              5             Books                  7              Fiction\n",
       "14              5             Books                 12             Academic\n",
       "15              5             Books                 10          Non-Fiction\n",
       "16              5             Books                 11             Children\n",
       "17              5             Books                  3               Comics\n",
       "18              5             Books                  6                  DIY\n",
       "19              6  Home and kitchen                  2           Furnishing\n",
       "20              6  Home and kitchen                 10              Kitchen\n",
       "21              6  Home and kitchen                 11                 Bath\n",
       "22              6  Home and kitchen                 12                Tools"
      ]
     },
     "execution_count": 4,
     "metadata": {},
     "output_type": "execute_result"
    }
   ],
   "source": [
    "prod_cat_info"
   ]
  },
  {
   "cell_type": "code",
   "execution_count": 5,
   "id": "b9a142be",
   "metadata": {},
   "outputs": [
    {
     "data": {
      "text/html": [
       "<div>\n",
       "<style scoped>\n",
       "    .dataframe tbody tr th:only-of-type {\n",
       "        vertical-align: middle;\n",
       "    }\n",
       "\n",
       "    .dataframe tbody tr th {\n",
       "        vertical-align: top;\n",
       "    }\n",
       "\n",
       "    .dataframe thead th {\n",
       "        text-align: right;\n",
       "    }\n",
       "</style>\n",
       "<table border=\"1\" class=\"dataframe\">\n",
       "  <thead>\n",
       "    <tr style=\"text-align: right;\">\n",
       "      <th></th>\n",
       "      <th>transaction_id</th>\n",
       "      <th>cust_id</th>\n",
       "      <th>tran_date</th>\n",
       "      <th>prod_subcat_code</th>\n",
       "      <th>prod_cat_code</th>\n",
       "      <th>Qty</th>\n",
       "      <th>Rate</th>\n",
       "      <th>Tax</th>\n",
       "      <th>total_amt</th>\n",
       "      <th>Store_type</th>\n",
       "    </tr>\n",
       "  </thead>\n",
       "  <tbody>\n",
       "    <tr>\n",
       "      <th>0</th>\n",
       "      <td>80712190438</td>\n",
       "      <td>270351</td>\n",
       "      <td>28-02-2014</td>\n",
       "      <td>1</td>\n",
       "      <td>1</td>\n",
       "      <td>-5</td>\n",
       "      <td>-772</td>\n",
       "      <td>405.300</td>\n",
       "      <td>-4265.300</td>\n",
       "      <td>e-Shop</td>\n",
       "    </tr>\n",
       "    <tr>\n",
       "      <th>1</th>\n",
       "      <td>29258453508</td>\n",
       "      <td>270384</td>\n",
       "      <td>27-02-2014</td>\n",
       "      <td>5</td>\n",
       "      <td>3</td>\n",
       "      <td>-5</td>\n",
       "      <td>-1497</td>\n",
       "      <td>785.925</td>\n",
       "      <td>-8270.925</td>\n",
       "      <td>e-Shop</td>\n",
       "    </tr>\n",
       "    <tr>\n",
       "      <th>2</th>\n",
       "      <td>51750724947</td>\n",
       "      <td>273420</td>\n",
       "      <td>24-02-2014</td>\n",
       "      <td>6</td>\n",
       "      <td>5</td>\n",
       "      <td>-2</td>\n",
       "      <td>-791</td>\n",
       "      <td>166.110</td>\n",
       "      <td>-1748.110</td>\n",
       "      <td>TeleShop</td>\n",
       "    </tr>\n",
       "    <tr>\n",
       "      <th>3</th>\n",
       "      <td>93274880719</td>\n",
       "      <td>271509</td>\n",
       "      <td>24-02-2014</td>\n",
       "      <td>11</td>\n",
       "      <td>6</td>\n",
       "      <td>-3</td>\n",
       "      <td>-1363</td>\n",
       "      <td>429.345</td>\n",
       "      <td>-4518.345</td>\n",
       "      <td>e-Shop</td>\n",
       "    </tr>\n",
       "    <tr>\n",
       "      <th>4</th>\n",
       "      <td>51750724947</td>\n",
       "      <td>273420</td>\n",
       "      <td>23-02-2014</td>\n",
       "      <td>6</td>\n",
       "      <td>5</td>\n",
       "      <td>-2</td>\n",
       "      <td>-791</td>\n",
       "      <td>166.110</td>\n",
       "      <td>-1748.110</td>\n",
       "      <td>TeleShop</td>\n",
       "    </tr>\n",
       "    <tr>\n",
       "      <th>...</th>\n",
       "      <td>...</td>\n",
       "      <td>...</td>\n",
       "      <td>...</td>\n",
       "      <td>...</td>\n",
       "      <td>...</td>\n",
       "      <td>...</td>\n",
       "      <td>...</td>\n",
       "      <td>...</td>\n",
       "      <td>...</td>\n",
       "      <td>...</td>\n",
       "    </tr>\n",
       "    <tr>\n",
       "      <th>23048</th>\n",
       "      <td>94340757522</td>\n",
       "      <td>274550</td>\n",
       "      <td>25-01-2011</td>\n",
       "      <td>12</td>\n",
       "      <td>5</td>\n",
       "      <td>1</td>\n",
       "      <td>1264</td>\n",
       "      <td>132.720</td>\n",
       "      <td>1396.720</td>\n",
       "      <td>e-Shop</td>\n",
       "    </tr>\n",
       "    <tr>\n",
       "      <th>23049</th>\n",
       "      <td>89780862956</td>\n",
       "      <td>270022</td>\n",
       "      <td>25-01-2011</td>\n",
       "      <td>4</td>\n",
       "      <td>1</td>\n",
       "      <td>1</td>\n",
       "      <td>677</td>\n",
       "      <td>71.085</td>\n",
       "      <td>748.085</td>\n",
       "      <td>e-Shop</td>\n",
       "    </tr>\n",
       "    <tr>\n",
       "      <th>23050</th>\n",
       "      <td>85115299378</td>\n",
       "      <td>271020</td>\n",
       "      <td>25-01-2011</td>\n",
       "      <td>2</td>\n",
       "      <td>6</td>\n",
       "      <td>4</td>\n",
       "      <td>1052</td>\n",
       "      <td>441.840</td>\n",
       "      <td>4649.840</td>\n",
       "      <td>MBR</td>\n",
       "    </tr>\n",
       "    <tr>\n",
       "      <th>23051</th>\n",
       "      <td>72870271171</td>\n",
       "      <td>270911</td>\n",
       "      <td>25-01-2011</td>\n",
       "      <td>11</td>\n",
       "      <td>5</td>\n",
       "      <td>3</td>\n",
       "      <td>1142</td>\n",
       "      <td>359.730</td>\n",
       "      <td>3785.730</td>\n",
       "      <td>TeleShop</td>\n",
       "    </tr>\n",
       "    <tr>\n",
       "      <th>23052</th>\n",
       "      <td>77960931771</td>\n",
       "      <td>271961</td>\n",
       "      <td>25-01-2011</td>\n",
       "      <td>11</td>\n",
       "      <td>5</td>\n",
       "      <td>1</td>\n",
       "      <td>447</td>\n",
       "      <td>46.935</td>\n",
       "      <td>493.935</td>\n",
       "      <td>TeleShop</td>\n",
       "    </tr>\n",
       "  </tbody>\n",
       "</table>\n",
       "<p>23053 rows × 10 columns</p>\n",
       "</div>"
      ],
      "text/plain": [
       "       transaction_id  cust_id   tran_date  prod_subcat_code  prod_cat_code  \\\n",
       "0         80712190438   270351  28-02-2014                 1              1   \n",
       "1         29258453508   270384  27-02-2014                 5              3   \n",
       "2         51750724947   273420  24-02-2014                 6              5   \n",
       "3         93274880719   271509  24-02-2014                11              6   \n",
       "4         51750724947   273420  23-02-2014                 6              5   \n",
       "...               ...      ...         ...               ...            ...   \n",
       "23048     94340757522   274550  25-01-2011                12              5   \n",
       "23049     89780862956   270022  25-01-2011                 4              1   \n",
       "23050     85115299378   271020  25-01-2011                 2              6   \n",
       "23051     72870271171   270911  25-01-2011                11              5   \n",
       "23052     77960931771   271961  25-01-2011                11              5   \n",
       "\n",
       "       Qty  Rate      Tax  total_amt Store_type  \n",
       "0       -5  -772  405.300  -4265.300     e-Shop  \n",
       "1       -5 -1497  785.925  -8270.925     e-Shop  \n",
       "2       -2  -791  166.110  -1748.110   TeleShop  \n",
       "3       -3 -1363  429.345  -4518.345     e-Shop  \n",
       "4       -2  -791  166.110  -1748.110   TeleShop  \n",
       "...    ...   ...      ...        ...        ...  \n",
       "23048    1  1264  132.720   1396.720     e-Shop  \n",
       "23049    1   677   71.085    748.085     e-Shop  \n",
       "23050    4  1052  441.840   4649.840        MBR  \n",
       "23051    3  1142  359.730   3785.730   TeleShop  \n",
       "23052    1   447   46.935    493.935   TeleShop  \n",
       "\n",
       "[23053 rows x 10 columns]"
      ]
     },
     "execution_count": 5,
     "metadata": {},
     "output_type": "execute_result"
    }
   ],
   "source": [
    "Transactions"
   ]
  },
  {
   "cell_type": "markdown",
   "id": "7d4bab45",
   "metadata": {},
   "source": [
    "### 1)  Merge the datasets Customers, Product Hierarchy and Transactions as Customer_Final. Ensure to keep all customers who have done transactions with us and select the join type accordingly.\n"
   ]
  },
  {
   "cell_type": "code",
   "execution_count": 6,
   "id": "6e01a3fb",
   "metadata": {
    "scrolled": true
   },
   "outputs": [
    {
     "name": "stdout",
     "output_type": "stream",
     "text": [
      "<class 'pandas.core.frame.DataFrame'>\n",
      "RangeIndex: 5647 entries, 0 to 5646\n",
      "Data columns (total 4 columns):\n",
      " #   Column       Non-Null Count  Dtype  \n",
      "---  ------       --------------  -----  \n",
      " 0   customer_Id  5647 non-null   int64  \n",
      " 1   DOB          5647 non-null   object \n",
      " 2   Gender       5645 non-null   object \n",
      " 3   city_code    5645 non-null   float64\n",
      "dtypes: float64(1), int64(1), object(2)\n",
      "memory usage: 176.6+ KB\n"
     ]
    }
   ],
   "source": [
    "Customer.info()"
   ]
  },
  {
   "cell_type": "code",
   "execution_count": 7,
   "id": "074ec921",
   "metadata": {},
   "outputs": [
    {
     "data": {
      "text/plain": [
       "customer_Id    5647\n",
       "DOB            4056\n",
       "Gender            2\n",
       "city_code        10\n",
       "dtype: int64"
      ]
     },
     "execution_count": 7,
     "metadata": {},
     "output_type": "execute_result"
    }
   ],
   "source": [
    "Customer.nunique()"
   ]
  },
  {
   "cell_type": "code",
   "execution_count": 8,
   "id": "ea825159",
   "metadata": {},
   "outputs": [
    {
     "name": "stdout",
     "output_type": "stream",
     "text": [
      "<class 'pandas.core.frame.DataFrame'>\n",
      "RangeIndex: 23 entries, 0 to 22\n",
      "Data columns (total 4 columns):\n",
      " #   Column             Non-Null Count  Dtype \n",
      "---  ------             --------------  ----- \n",
      " 0   prod_cat_code      23 non-null     int64 \n",
      " 1   prod_cat           23 non-null     object\n",
      " 2   prod_sub_cat_code  23 non-null     int64 \n",
      " 3   prod_subcat        23 non-null     object\n",
      "dtypes: int64(2), object(2)\n",
      "memory usage: 864.0+ bytes\n"
     ]
    }
   ],
   "source": [
    "prod_cat_info.info()"
   ]
  },
  {
   "cell_type": "code",
   "execution_count": 9,
   "id": "73a8b0bc",
   "metadata": {},
   "outputs": [
    {
     "data": {
      "text/plain": [
       "prod_cat_code         6\n",
       "prod_cat              6\n",
       "prod_sub_cat_code    12\n",
       "prod_subcat          18\n",
       "dtype: int64"
      ]
     },
     "execution_count": 9,
     "metadata": {},
     "output_type": "execute_result"
    }
   ],
   "source": [
    "prod_cat_info.nunique()"
   ]
  },
  {
   "cell_type": "code",
   "execution_count": 10,
   "id": "353dcead",
   "metadata": {},
   "outputs": [
    {
     "name": "stdout",
     "output_type": "stream",
     "text": [
      "<class 'pandas.core.frame.DataFrame'>\n",
      "RangeIndex: 23053 entries, 0 to 23052\n",
      "Data columns (total 10 columns):\n",
      " #   Column            Non-Null Count  Dtype  \n",
      "---  ------            --------------  -----  \n",
      " 0   transaction_id    23053 non-null  int64  \n",
      " 1   cust_id           23053 non-null  int64  \n",
      " 2   tran_date         23053 non-null  object \n",
      " 3   prod_subcat_code  23053 non-null  int64  \n",
      " 4   prod_cat_code     23053 non-null  int64  \n",
      " 5   Qty               23053 non-null  int64  \n",
      " 6   Rate              23053 non-null  int64  \n",
      " 7   Tax               23053 non-null  float64\n",
      " 8   total_amt         23053 non-null  float64\n",
      " 9   Store_type        23053 non-null  object \n",
      "dtypes: float64(2), int64(6), object(2)\n",
      "memory usage: 1.8+ MB\n"
     ]
    }
   ],
   "source": [
    "Transactions.info()"
   ]
  },
  {
   "cell_type": "code",
   "execution_count": 11,
   "id": "5cd233d7",
   "metadata": {
    "scrolled": true
   },
   "outputs": [
    {
     "data": {
      "text/plain": [
       "transaction_id      20878\n",
       "cust_id              5506\n",
       "tran_date            1129\n",
       "prod_subcat_code       12\n",
       "prod_cat_code           6\n",
       "Qty                    10\n",
       "Rate                 2551\n",
       "Tax                  4194\n",
       "total_amt            5764\n",
       "Store_type              4\n",
       "dtype: int64"
      ]
     },
     "execution_count": 11,
     "metadata": {},
     "output_type": "execute_result"
    }
   ],
   "source": [
    "Transactions.nunique()"
   ]
  },
  {
   "cell_type": "code",
   "execution_count": 12,
   "id": "4a4d0396",
   "metadata": {},
   "outputs": [],
   "source": [
    "a = pd.merge(Customer, Transactions, left_on='customer_Id',right_on='cust_id', how='right')\n"
   ]
  },
  {
   "cell_type": "code",
   "execution_count": 13,
   "id": "f740e073",
   "metadata": {},
   "outputs": [
    {
     "data": {
      "text/plain": [
       "Index(['customer_Id', 'DOB', 'Gender', 'city_code', 'transaction_id',\n",
       "       'cust_id', 'tran_date', 'prod_subcat_code', 'prod_cat_code', 'Qty',\n",
       "       'Rate', 'Tax', 'total_amt', 'Store_type'],\n",
       "      dtype='object')"
      ]
     },
     "execution_count": 13,
     "metadata": {},
     "output_type": "execute_result"
    }
   ],
   "source": [
    "a.columns"
   ]
  },
  {
   "cell_type": "code",
   "execution_count": 14,
   "id": "fe1ec29b",
   "metadata": {},
   "outputs": [
    {
     "data": {
      "text/plain": [
       "Index(['prod_cat_code', 'prod_cat', 'prod_sub_cat_code', 'prod_subcat'], dtype='object')"
      ]
     },
     "execution_count": 14,
     "metadata": {},
     "output_type": "execute_result"
    }
   ],
   "source": [
    "prod_cat_info.columns"
   ]
  },
  {
   "cell_type": "code",
   "execution_count": 15,
   "id": "a91bdd5e",
   "metadata": {},
   "outputs": [],
   "source": [
    "Customer_Final = pd.merge(a, \n",
    "                          prod_cat_info, \n",
    "                          left_on=['prod_subcat_code','prod_cat_code'], \n",
    "                          right_on=['prod_sub_cat_code','prod_cat_code'],\n",
    "                          how='inner')"
   ]
  },
  {
   "cell_type": "code",
   "execution_count": 16,
   "id": "1af41c91",
   "metadata": {},
   "outputs": [],
   "source": [
    "Customer_Final.drop(['cust_id','prod_sub_cat_code'], axis = 1, inplace = True)"
   ]
  },
  {
   "cell_type": "code",
   "execution_count": 17,
   "id": "eab83fbd",
   "metadata": {
    "scrolled": true
   },
   "outputs": [
    {
     "data": {
      "text/html": [
       "<div>\n",
       "<style scoped>\n",
       "    .dataframe tbody tr th:only-of-type {\n",
       "        vertical-align: middle;\n",
       "    }\n",
       "\n",
       "    .dataframe tbody tr th {\n",
       "        vertical-align: top;\n",
       "    }\n",
       "\n",
       "    .dataframe thead th {\n",
       "        text-align: right;\n",
       "    }\n",
       "</style>\n",
       "<table border=\"1\" class=\"dataframe\">\n",
       "  <thead>\n",
       "    <tr style=\"text-align: right;\">\n",
       "      <th></th>\n",
       "      <th>customer_Id</th>\n",
       "      <th>DOB</th>\n",
       "      <th>Gender</th>\n",
       "      <th>city_code</th>\n",
       "      <th>transaction_id</th>\n",
       "      <th>tran_date</th>\n",
       "      <th>prod_subcat_code</th>\n",
       "      <th>prod_cat_code</th>\n",
       "      <th>Qty</th>\n",
       "      <th>Rate</th>\n",
       "      <th>Tax</th>\n",
       "      <th>total_amt</th>\n",
       "      <th>Store_type</th>\n",
       "      <th>prod_cat</th>\n",
       "      <th>prod_subcat</th>\n",
       "    </tr>\n",
       "  </thead>\n",
       "  <tbody>\n",
       "    <tr>\n",
       "      <th>0</th>\n",
       "      <td>270351</td>\n",
       "      <td>26-09-1981</td>\n",
       "      <td>M</td>\n",
       "      <td>5.0</td>\n",
       "      <td>80712190438</td>\n",
       "      <td>28-02-2014</td>\n",
       "      <td>1</td>\n",
       "      <td>1</td>\n",
       "      <td>-5</td>\n",
       "      <td>-772</td>\n",
       "      <td>405.3</td>\n",
       "      <td>-4265.3</td>\n",
       "      <td>e-Shop</td>\n",
       "      <td>Clothing</td>\n",
       "      <td>Women</td>\n",
       "    </tr>\n",
       "  </tbody>\n",
       "</table>\n",
       "</div>"
      ],
      "text/plain": [
       "   customer_Id         DOB Gender  city_code  transaction_id   tran_date  \\\n",
       "0       270351  26-09-1981      M        5.0     80712190438  28-02-2014   \n",
       "\n",
       "   prod_subcat_code  prod_cat_code  Qty  Rate    Tax  total_amt Store_type  \\\n",
       "0                 1              1   -5  -772  405.3    -4265.3     e-Shop   \n",
       "\n",
       "   prod_cat prod_subcat  \n",
       "0  Clothing       Women  "
      ]
     },
     "execution_count": 17,
     "metadata": {},
     "output_type": "execute_result"
    }
   ],
   "source": [
    "Customer_Final.head(1)"
   ]
  },
  {
   "cell_type": "markdown",
   "id": "bc821f56",
   "metadata": {},
   "source": [
    "### 2) Prepare a summary report for the merged data set. \n",
    "### 2) a. Get the column names and their corresponding data types \n"
   ]
  },
  {
   "cell_type": "code",
   "execution_count": 18,
   "id": "75a2c3a9",
   "metadata": {},
   "outputs": [
    {
     "name": "stdout",
     "output_type": "stream",
     "text": [
      "<class 'pandas.core.frame.DataFrame'>\n",
      "Int64Index: 23053 entries, 0 to 23052\n",
      "Data columns (total 15 columns):\n",
      " #   Column            Non-Null Count  Dtype  \n",
      "---  ------            --------------  -----  \n",
      " 0   customer_Id       23053 non-null  int64  \n",
      " 1   DOB               23053 non-null  object \n",
      " 2   Gender            23044 non-null  object \n",
      " 3   city_code         23045 non-null  float64\n",
      " 4   transaction_id    23053 non-null  int64  \n",
      " 5   tran_date         23053 non-null  object \n",
      " 6   prod_subcat_code  23053 non-null  int64  \n",
      " 7   prod_cat_code     23053 non-null  int64  \n",
      " 8   Qty               23053 non-null  int64  \n",
      " 9   Rate              23053 non-null  int64  \n",
      " 10  Tax               23053 non-null  float64\n",
      " 11  total_amt         23053 non-null  float64\n",
      " 12  Store_type        23053 non-null  object \n",
      " 13  prod_cat          23053 non-null  object \n",
      " 14  prod_subcat       23053 non-null  object \n",
      "dtypes: float64(3), int64(6), object(6)\n",
      "memory usage: 2.8+ MB\n"
     ]
    }
   ],
   "source": [
    "Customer_Final.info()"
   ]
  },
  {
   "cell_type": "code",
   "execution_count": 19,
   "id": "a0098012",
   "metadata": {},
   "outputs": [
    {
     "data": {
      "text/plain": [
       "customer_Id         0\n",
       "DOB                 0\n",
       "Gender              9\n",
       "city_code           8\n",
       "transaction_id      0\n",
       "tran_date           0\n",
       "prod_subcat_code    0\n",
       "prod_cat_code       0\n",
       "Qty                 0\n",
       "Rate                0\n",
       "Tax                 0\n",
       "total_amt           0\n",
       "Store_type          0\n",
       "prod_cat            0\n",
       "prod_subcat         0\n",
       "dtype: int64"
      ]
     },
     "execution_count": 19,
     "metadata": {},
     "output_type": "execute_result"
    }
   ],
   "source": [
    "Customer_Final.isnull().sum()\n"
   ]
  },
  {
   "cell_type": "markdown",
   "id": "ed679627",
   "metadata": {},
   "source": [
    "### 2) b. Top/Bottom 10 observations "
   ]
  },
  {
   "cell_type": "code",
   "execution_count": 20,
   "id": "f31a7964",
   "metadata": {},
   "outputs": [
    {
     "data": {
      "text/html": [
       "<div>\n",
       "<style scoped>\n",
       "    .dataframe tbody tr th:only-of-type {\n",
       "        vertical-align: middle;\n",
       "    }\n",
       "\n",
       "    .dataframe tbody tr th {\n",
       "        vertical-align: top;\n",
       "    }\n",
       "\n",
       "    .dataframe thead th {\n",
       "        text-align: right;\n",
       "    }\n",
       "</style>\n",
       "<table border=\"1\" class=\"dataframe\">\n",
       "  <thead>\n",
       "    <tr style=\"text-align: right;\">\n",
       "      <th></th>\n",
       "      <th>customer_Id</th>\n",
       "      <th>DOB</th>\n",
       "      <th>Gender</th>\n",
       "      <th>city_code</th>\n",
       "      <th>transaction_id</th>\n",
       "      <th>tran_date</th>\n",
       "      <th>prod_subcat_code</th>\n",
       "      <th>prod_cat_code</th>\n",
       "      <th>Qty</th>\n",
       "      <th>Rate</th>\n",
       "      <th>Tax</th>\n",
       "      <th>total_amt</th>\n",
       "      <th>Store_type</th>\n",
       "      <th>prod_cat</th>\n",
       "      <th>prod_subcat</th>\n",
       "    </tr>\n",
       "  </thead>\n",
       "  <tbody>\n",
       "    <tr>\n",
       "      <th>23043</th>\n",
       "      <td>270735</td>\n",
       "      <td>20-08-1976</td>\n",
       "      <td>M</td>\n",
       "      <td>6.0</td>\n",
       "      <td>39092855201</td>\n",
       "      <td>5/2/2011</td>\n",
       "      <td>1</td>\n",
       "      <td>4</td>\n",
       "      <td>3</td>\n",
       "      <td>634</td>\n",
       "      <td>199.710</td>\n",
       "      <td>2101.710</td>\n",
       "      <td>e-Shop</td>\n",
       "      <td>Bags</td>\n",
       "      <td>Mens</td>\n",
       "    </tr>\n",
       "    <tr>\n",
       "      <th>23044</th>\n",
       "      <td>275166</td>\n",
       "      <td>05-11-1970</td>\n",
       "      <td>M</td>\n",
       "      <td>10.0</td>\n",
       "      <td>31795262740</td>\n",
       "      <td>4/2/2011</td>\n",
       "      <td>1</td>\n",
       "      <td>4</td>\n",
       "      <td>-4</td>\n",
       "      <td>-531</td>\n",
       "      <td>223.020</td>\n",
       "      <td>-2347.020</td>\n",
       "      <td>e-Shop</td>\n",
       "      <td>Bags</td>\n",
       "      <td>Mens</td>\n",
       "    </tr>\n",
       "    <tr>\n",
       "      <th>23045</th>\n",
       "      <td>273464</td>\n",
       "      <td>20-06-1989</td>\n",
       "      <td>M</td>\n",
       "      <td>4.0</td>\n",
       "      <td>69918810427</td>\n",
       "      <td>4/2/2011</td>\n",
       "      <td>1</td>\n",
       "      <td>4</td>\n",
       "      <td>1</td>\n",
       "      <td>1349</td>\n",
       "      <td>141.645</td>\n",
       "      <td>1490.645</td>\n",
       "      <td>e-Shop</td>\n",
       "      <td>Bags</td>\n",
       "      <td>Mens</td>\n",
       "    </tr>\n",
       "    <tr>\n",
       "      <th>23046</th>\n",
       "      <td>274929</td>\n",
       "      <td>07-06-1974</td>\n",
       "      <td>F</td>\n",
       "      <td>8.0</td>\n",
       "      <td>42850516488</td>\n",
       "      <td>3/2/2011</td>\n",
       "      <td>1</td>\n",
       "      <td>4</td>\n",
       "      <td>2</td>\n",
       "      <td>112</td>\n",
       "      <td>23.520</td>\n",
       "      <td>247.520</td>\n",
       "      <td>MBR</td>\n",
       "      <td>Bags</td>\n",
       "      <td>Mens</td>\n",
       "    </tr>\n",
       "    <tr>\n",
       "      <th>23047</th>\n",
       "      <td>268928</td>\n",
       "      <td>22-05-1990</td>\n",
       "      <td>M</td>\n",
       "      <td>8.0</td>\n",
       "      <td>7968305015</td>\n",
       "      <td>2/2/2011</td>\n",
       "      <td>1</td>\n",
       "      <td>4</td>\n",
       "      <td>1</td>\n",
       "      <td>346</td>\n",
       "      <td>36.330</td>\n",
       "      <td>382.330</td>\n",
       "      <td>Flagship store</td>\n",
       "      <td>Bags</td>\n",
       "      <td>Mens</td>\n",
       "    </tr>\n",
       "    <tr>\n",
       "      <th>23048</th>\n",
       "      <td>275166</td>\n",
       "      <td>05-11-1970</td>\n",
       "      <td>M</td>\n",
       "      <td>10.0</td>\n",
       "      <td>31795262740</td>\n",
       "      <td>1/2/2011</td>\n",
       "      <td>1</td>\n",
       "      <td>4</td>\n",
       "      <td>4</td>\n",
       "      <td>531</td>\n",
       "      <td>223.020</td>\n",
       "      <td>2347.020</td>\n",
       "      <td>e-Shop</td>\n",
       "      <td>Bags</td>\n",
       "      <td>Mens</td>\n",
       "    </tr>\n",
       "    <tr>\n",
       "      <th>23049</th>\n",
       "      <td>271131</td>\n",
       "      <td>02-07-1976</td>\n",
       "      <td>F</td>\n",
       "      <td>9.0</td>\n",
       "      <td>85848725285</td>\n",
       "      <td>1/2/2011</td>\n",
       "      <td>1</td>\n",
       "      <td>4</td>\n",
       "      <td>5</td>\n",
       "      <td>1043</td>\n",
       "      <td>547.575</td>\n",
       "      <td>5762.575</td>\n",
       "      <td>e-Shop</td>\n",
       "      <td>Bags</td>\n",
       "      <td>Mens</td>\n",
       "    </tr>\n",
       "    <tr>\n",
       "      <th>23050</th>\n",
       "      <td>272706</td>\n",
       "      <td>09-03-1974</td>\n",
       "      <td>M</td>\n",
       "      <td>8.0</td>\n",
       "      <td>12933894691</td>\n",
       "      <td>31-01-2011</td>\n",
       "      <td>1</td>\n",
       "      <td>4</td>\n",
       "      <td>5</td>\n",
       "      <td>361</td>\n",
       "      <td>189.525</td>\n",
       "      <td>1994.525</td>\n",
       "      <td>MBR</td>\n",
       "      <td>Bags</td>\n",
       "      <td>Mens</td>\n",
       "    </tr>\n",
       "    <tr>\n",
       "      <th>23051</th>\n",
       "      <td>273698</td>\n",
       "      <td>06-06-1974</td>\n",
       "      <td>F</td>\n",
       "      <td>1.0</td>\n",
       "      <td>6442732971</td>\n",
       "      <td>30-01-2011</td>\n",
       "      <td>1</td>\n",
       "      <td>4</td>\n",
       "      <td>1</td>\n",
       "      <td>1470</td>\n",
       "      <td>154.350</td>\n",
       "      <td>1624.350</td>\n",
       "      <td>e-Shop</td>\n",
       "      <td>Bags</td>\n",
       "      <td>Mens</td>\n",
       "    </tr>\n",
       "    <tr>\n",
       "      <th>23052</th>\n",
       "      <td>269539</td>\n",
       "      <td>20-03-1992</td>\n",
       "      <td>F</td>\n",
       "      <td>7.0</td>\n",
       "      <td>32904823908</td>\n",
       "      <td>26-01-2011</td>\n",
       "      <td>1</td>\n",
       "      <td>4</td>\n",
       "      <td>4</td>\n",
       "      <td>455</td>\n",
       "      <td>191.100</td>\n",
       "      <td>2011.100</td>\n",
       "      <td>MBR</td>\n",
       "      <td>Bags</td>\n",
       "      <td>Mens</td>\n",
       "    </tr>\n",
       "  </tbody>\n",
       "</table>\n",
       "</div>"
      ],
      "text/plain": [
       "       customer_Id         DOB Gender  city_code  transaction_id   tran_date  \\\n",
       "23043       270735  20-08-1976      M        6.0     39092855201    5/2/2011   \n",
       "23044       275166  05-11-1970      M       10.0     31795262740    4/2/2011   \n",
       "23045       273464  20-06-1989      M        4.0     69918810427    4/2/2011   \n",
       "23046       274929  07-06-1974      F        8.0     42850516488    3/2/2011   \n",
       "23047       268928  22-05-1990      M        8.0      7968305015    2/2/2011   \n",
       "23048       275166  05-11-1970      M       10.0     31795262740    1/2/2011   \n",
       "23049       271131  02-07-1976      F        9.0     85848725285    1/2/2011   \n",
       "23050       272706  09-03-1974      M        8.0     12933894691  31-01-2011   \n",
       "23051       273698  06-06-1974      F        1.0      6442732971  30-01-2011   \n",
       "23052       269539  20-03-1992      F        7.0     32904823908  26-01-2011   \n",
       "\n",
       "       prod_subcat_code  prod_cat_code  Qty  Rate      Tax  total_amt  \\\n",
       "23043                 1              4    3   634  199.710   2101.710   \n",
       "23044                 1              4   -4  -531  223.020  -2347.020   \n",
       "23045                 1              4    1  1349  141.645   1490.645   \n",
       "23046                 1              4    2   112   23.520    247.520   \n",
       "23047                 1              4    1   346   36.330    382.330   \n",
       "23048                 1              4    4   531  223.020   2347.020   \n",
       "23049                 1              4    5  1043  547.575   5762.575   \n",
       "23050                 1              4    5   361  189.525   1994.525   \n",
       "23051                 1              4    1  1470  154.350   1624.350   \n",
       "23052                 1              4    4   455  191.100   2011.100   \n",
       "\n",
       "           Store_type prod_cat prod_subcat  \n",
       "23043          e-Shop     Bags        Mens  \n",
       "23044          e-Shop     Bags        Mens  \n",
       "23045          e-Shop     Bags        Mens  \n",
       "23046             MBR     Bags        Mens  \n",
       "23047  Flagship store     Bags        Mens  \n",
       "23048          e-Shop     Bags        Mens  \n",
       "23049          e-Shop     Bags        Mens  \n",
       "23050             MBR     Bags        Mens  \n",
       "23051          e-Shop     Bags        Mens  \n",
       "23052             MBR     Bags        Mens  "
      ]
     },
     "execution_count": 20,
     "metadata": {},
     "output_type": "execute_result"
    }
   ],
   "source": [
    "Customer_Final.tail(10)"
   ]
  },
  {
   "cell_type": "markdown",
   "id": "c3b38b56",
   "metadata": {},
   "source": [
    "### 2) c. “Five-number summary” for continuous variables (min, Q1, median, Q3 and max) "
   ]
  },
  {
   "cell_type": "code",
   "execution_count": 21,
   "id": "55f734fc",
   "metadata": {},
   "outputs": [],
   "source": [
    "cont_var = ['Qty','Rate','Tax','total_amt']"
   ]
  },
  {
   "cell_type": "code",
   "execution_count": 22,
   "id": "9ec79ade",
   "metadata": {
    "scrolled": true
   },
   "outputs": [
    {
     "name": "stdout",
     "output_type": "stream",
     "text": [
      "Five point summary for variable: Qty \n",
      " min: -5 Q1: 1.0 median: 3.0 Q3: 4.0 max: 5 \n",
      "\n",
      "Five point summary for variable: Rate \n",
      " min: -1499 Q1: 312.0 median: 710.0 Q3: 1109.0 max: 1500 \n",
      "\n",
      "Five point summary for variable: Tax \n",
      " min: 7.35 Q1: 98.28 median: 199.08 Q3: 365.715 max: 787.5 \n",
      "\n",
      "Five point summary for variable: total_amt \n",
      " min: -8270.925 Q1: 762.45 median: 1754.74 Q3: 3569.15 max: 8287.5 \n",
      "\n"
     ]
    }
   ],
   "source": [
    "for i in cont_var:\n",
    "    minimum = Customer_Final[i].min()\n",
    "    maximum = Customer_Final[i].max()\n",
    "    median = Customer_Final[i].quantile( 0.5 )\n",
    "    Q1 = Customer_Final[i].quantile( 0.25 )\n",
    "    Q3 = Customer_Final[i].quantile( 0.75 )\n",
    "    print('Five point summary for variable:',i,'\\n min:',minimum,\n",
    "          'Q1:',Q1,'median:',median,'Q3:', Q3, 'max:',maximum, '\\n')"
   ]
  },
  {
   "cell_type": "markdown",
   "id": "4d91539d",
   "metadata": {},
   "source": [
    "### 2) d. Frequency tables for all the categorical variables"
   ]
  },
  {
   "cell_type": "code",
   "execution_count": 23,
   "id": "adc35c7d",
   "metadata": {},
   "outputs": [],
   "source": [
    "# For creating frequency tables we only consider those categorical variables\n",
    "#  which can be reasonable. \n",
    "# Excluding - 'customer_Id','transaction_id','DOB','tran_date'\n",
    "cat_var=['Gender','city_code','prod_subcat_code','prod_cat_code','Store_type','prod_cat','prod_subcat']"
   ]
  },
  {
   "cell_type": "code",
   "execution_count": 24,
   "id": "95145703",
   "metadata": {},
   "outputs": [
    {
     "name": "stdout",
     "output_type": "stream",
     "text": [
      "\n",
      "\n",
      "frequency table for: Gender \n",
      " col_0   count\n",
      "Gender       \n",
      "F       11233\n",
      "M       11811\n",
      "\n",
      "\n",
      "frequency table for: city_code \n",
      " col_0      count\n",
      "city_code       \n",
      "1.0         2258\n",
      "2.0         2270\n",
      "3.0         2411\n",
      "4.0         2422\n",
      "5.0         2360\n",
      "6.0         2127\n",
      "7.0         2356\n",
      "8.0         2330\n",
      "9.0         2178\n",
      "10.0        2333\n",
      "\n",
      "\n",
      "frequency table for: prod_subcat_code \n",
      " col_0             count\n",
      "prod_subcat_code       \n",
      "1                  2950\n",
      "2                  1007\n",
      "3                  3067\n",
      "4                  4002\n",
      "5                   958\n",
      "6                   989\n",
      "7                  1043\n",
      "8                   972\n",
      "9                   985\n",
      "10                 2993\n",
      "11                 2058\n",
      "12                 2029\n",
      "\n",
      "\n",
      "frequency table for: prod_cat_code \n",
      " col_0          count\n",
      "prod_cat_code       \n",
      "1               2960\n",
      "2               2999\n",
      "3               4898\n",
      "4               1998\n",
      "5               6069\n",
      "6               4129\n",
      "\n",
      "\n",
      "frequency table for: Store_type \n",
      " col_0           count\n",
      "Store_type           \n",
      "Flagship store   4577\n",
      "MBR              4661\n",
      "TeleShop         4504\n",
      "e-Shop           9311\n",
      "\n",
      "\n",
      "frequency table for: prod_cat \n",
      " col_0             count\n",
      "prod_cat               \n",
      "Bags               1998\n",
      "Books              6069\n",
      "Clothing           2960\n",
      "Electronics        4898\n",
      "Footwear           2999\n",
      "Home and kitchen   4129\n",
      "\n",
      "\n",
      "frequency table for: prod_subcat \n",
      " col_0                count\n",
      "prod_subcat               \n",
      "Academic               967\n",
      "Audio and video        952\n",
      "Bath                  1023\n",
      "Cameras                985\n",
      "Children              1035\n",
      "Comics                1031\n",
      "Computers              958\n",
      "DIY                    989\n",
      "Fiction               1043\n",
      "Furnishing            1007\n",
      "Kids                  1997\n",
      "Kitchen               1037\n",
      "Mens                  2912\n",
      "Mobiles               1031\n",
      "Non-Fiction           1004\n",
      "Personal Appliances    972\n",
      "Tools                 1062\n",
      "Women                 3048\n"
     ]
    }
   ],
   "source": [
    "for i in cat_var:\n",
    "    print ('\\n\\nfrequency table for:',i,'\\n',\n",
    "           pd.crosstab(index=Customer_Final[i],columns=\"count\"))"
   ]
  },
  {
   "cell_type": "markdown",
   "id": "24593924",
   "metadata": {},
   "source": [
    "### 3. Generate histograms for all continuous variables and frequency bars for categorical variables."
   ]
  },
  {
   "cell_type": "code",
   "execution_count": 25,
   "id": "af03275b",
   "metadata": {},
   "outputs": [
    {
     "name": "stdout",
     "output_type": "stream",
     "text": [
      "Histogram for : Qty\n"
     ]
    },
    {
     "data": {
      "image/png": "[encoded data removed]",
      "text/plain": [
       "<Figure size 720x504 with 1 Axes>"
      ]
     },
     "metadata": {
      "needs_background": "light"
     },
     "output_type": "display_data"
    },
    {
     "name": "stdout",
     "output_type": "stream",
     "text": [
      "Histogram for : Rate\n"
     ]
    },
    {
     "data": {
      "image/png": "[encoded data removed]",
      "text/plain": [
       "<Figure size 720x504 with 1 Axes>"
      ]
     },
     "metadata": {
      "needs_background": "light"
     },
     "output_type": "display_data"
    },
    {
     "name": "stdout",
     "output_type": "stream",
     "text": [
      "Histogram for : Tax\n"
     ]
    },
    {
     "data": {
      "image/png": "[encoded data removed]",
      "text/plain": [
       "<Figure size 720x504 with 1 Axes>"
      ]
     },
     "metadata": {
      "needs_background": "light"
     },
     "output_type": "display_data"
    },
    {
     "name": "stdout",
     "output_type": "stream",
     "text": [
      "Histogram for : total_amt\n"
     ]
    },
    {
     "data": {
      "image/png": "[encoded data removed]",
      "text/plain": [
       "<Figure size 720x504 with 1 Axes>"
      ]
     },
     "metadata": {
      "needs_background": "light"
     },
     "output_type": "display_data"
    }
   ],
   "source": [
    "# Histogram for all continuous variable\n",
    "for i in cont_var:\n",
    "    print('Histogram for :',i)\n",
    "    fig, ax = plt.subplots(figsize =(10, 7))\n",
    "    ax.hist(Customer_Final[i], \n",
    "            bins =list(range(int(Customer_Final[i].min())-1,int(Customer_Final[i].max())+1)))\n",
    "    plt.show()"
   ]
  },
  {
   "cell_type": "code",
   "execution_count": 26,
   "id": "99d0f7ae",
   "metadata": {},
   "outputs": [
    {
     "name": "stdout",
     "output_type": "stream",
     "text": [
      "frequency bar for: Gender\n"
     ]
    },
    {
     "data": {
      "image/png": "[encoded data removed]",
      "text/plain": [
       "<Figure size 432x288 with 1 Axes>"
      ]
     },
     "metadata": {
      "needs_background": "light"
     },
     "output_type": "display_data"
    },
    {
     "name": "stdout",
     "output_type": "stream",
     "text": [
      "frequency bar for: city_code\n"
     ]
    },
    {
     "data": {
      "image/png": "[encoded data removed]",
      "text/plain": [
       "<Figure size 432x288 with 1 Axes>"
      ]
     },
     "metadata": {
      "needs_background": "light"
     },
     "output_type": "display_data"
    },
    {
     "name": "stdout",
     "output_type": "stream",
     "text": [
      "frequency bar for: prod_subcat_code\n"
     ]
    },
    {
     "data": {
      "image/png": "[encoded data removed]",
      "text/plain": [
       "<Figure size 432x288 with 1 Axes>"
      ]
     },
     "metadata": {
      "needs_background": "light"
     },
     "output_type": "display_data"
    },
    {
     "name": "stdout",
     "output_type": "stream",
     "text": [
      "frequency bar for: prod_cat_code\n"
     ]
    },
    {
     "data": {
      "image/png": "[encoded data removed]",
      "text/plain": [
       "<Figure size 432x288 with 1 Axes>"
      ]
     },
     "metadata": {
      "needs_background": "light"
     },
     "output_type": "display_data"
    },
    {
     "name": "stdout",
     "output_type": "stream",
     "text": [
      "frequency bar for: Store_type\n"
     ]
    },
    {
     "data": {
      "image/png": "[encoded data removed]",
      "text/plain": [
       "<Figure size 432x288 with 1 Axes>"
      ]
     },
     "metadata": {
      "needs_background": "light"
     },
     "output_type": "display_data"
    },
    {
     "name": "stdout",
     "output_type": "stream",
     "text": [
      "frequency bar for: prod_cat\n"
     ]
    },
    {
     "data": {
      "image/png": "[encoded data removed]",
      "text/plain": [
       "<Figure size 432x288 with 1 Axes>"
      ]
     },
     "metadata": {
      "needs_background": "light"
     },
     "output_type": "display_data"
    },
    {
     "name": "stdout",
     "output_type": "stream",
     "text": [
      "frequency bar for: prod_subcat\n"
     ]
    },
    {
     "data": {
      "image/png": "[encoded data removed]",
      "text/plain": [
       "<Figure size 432x288 with 1 Axes>"
      ]
     },
     "metadata": {
      "needs_background": "light"
     },
     "output_type": "display_data"
    }
   ],
   "source": [
    "cat_var=['Gender','city_code','prod_subcat_code','prod_cat_code','Store_type','prod_cat','prod_subcat']\n",
    "for i in cat_var:\n",
    "    print('frequency bar for:',i)\n",
    "    Customer_Final[i].value_counts().plot(kind='bar')\n",
    "    plt.show()"
   ]
  },
  {
   "cell_type": "markdown",
   "id": "479ab025",
   "metadata": {},
   "source": [
    "### 4. Calculate the following information using the merged dataset :"
   ]
  },
  {
   "cell_type": "code",
   "execution_count": 27,
   "id": "07c3c0c6",
   "metadata": {},
   "outputs": [
    {
     "data": {
      "text/plain": [
       "0        26-09-1981\n",
       "1        26-09-1981\n",
       "2        24-10-1987\n",
       "3        03-02-1992\n",
       "4        11-12-1971\n",
       "            ...    \n",
       "23048    05-11-1970\n",
       "23049    02-07-1976\n",
       "23050    09-03-1974\n",
       "23051    06-06-1974\n",
       "23052    20-03-1992\n",
       "Name: DOB, Length: 23053, dtype: object"
      ]
     },
     "execution_count": 27,
     "metadata": {},
     "output_type": "execute_result"
    }
   ],
   "source": [
    "Customer_Final.DOB"
   ]
  },
  {
   "cell_type": "markdown",
   "id": "a271ce5f",
   "metadata": {},
   "source": [
    "### 4 a. Time period of the available transaction data"
   ]
  },
  {
   "cell_type": "code",
   "execution_count": 28,
   "id": "26fd8ddc",
   "metadata": {},
   "outputs": [],
   "source": [
    "Customer_Final[\"DOB\"] = pd.to_datetime(Customer_Final[\"DOB\"], format=\"%d-%m-%Y\")"
   ]
  },
  {
   "cell_type": "code",
   "execution_count": 29,
   "id": "cb73cc24",
   "metadata": {},
   "outputs": [],
   "source": [
    "Customer_Final[\"tran_date\"] = pd.to_datetime(Customer_Final[\"tran_date\"])"
   ]
  },
  {
   "cell_type": "code",
   "execution_count": 30,
   "id": "32dc18ac",
   "metadata": {},
   "outputs": [],
   "source": [
    "min_date = Customer_Final[\"tran_date\"].min()\n",
    "max_date = Customer_Final[\"tran_date\"].max()"
   ]
  },
  {
   "cell_type": "code",
   "execution_count": 31,
   "id": "234379a2",
   "metadata": {},
   "outputs": [
    {
     "name": "stdout",
     "output_type": "stream",
     "text": [
      "Time period of the available transaction data is from 02-01-2011 to 02-12-2014\n"
     ]
    }
   ],
   "source": [
    "print(\"Time period of the available transaction data is from \"+ \n",
    "      pd.Timestamp.strftime(min_date,format=\"%d-%m-%Y\") + \" to \" + \n",
    "      pd.Timestamp.strftime(max_date,format=\"%d-%m-%Y\"))"
   ]
  },
  {
   "cell_type": "markdown",
   "id": "bf968943",
   "metadata": {},
   "source": [
    "### 4 b. Count of transactions where the total amount of transaction was negative"
   ]
  },
  {
   "cell_type": "code",
   "execution_count": 32,
   "id": "f97ead98",
   "metadata": {
    "scrolled": true
   },
   "outputs": [
    {
     "data": {
      "text/plain": [
       "2177"
      ]
     },
     "execution_count": 32,
     "metadata": {},
     "output_type": "execute_result"
    }
   ],
   "source": [
    "Customer_Final[Customer_Final.total_amt<0].shape[0]"
   ]
  },
  {
   "cell_type": "markdown",
   "id": "56e2e2a1",
   "metadata": {},
   "source": [
    "### 5. Analyze which product categories are more popular among females vs male customers."
   ]
  },
  {
   "cell_type": "code",
   "execution_count": 33,
   "id": "1336ac60",
   "metadata": {},
   "outputs": [
    {
     "data": {
      "text/html": [
       "<div>\n",
       "<style scoped>\n",
       "    .dataframe tbody tr th:only-of-type {\n",
       "        vertical-align: middle;\n",
       "    }\n",
       "\n",
       "    .dataframe tbody tr th {\n",
       "        vertical-align: top;\n",
       "    }\n",
       "\n",
       "    .dataframe thead th {\n",
       "        text-align: right;\n",
       "    }\n",
       "</style>\n",
       "<table border=\"1\" class=\"dataframe\">\n",
       "  <thead>\n",
       "    <tr style=\"text-align: right;\">\n",
       "      <th></th>\n",
       "      <th>Gender</th>\n",
       "      <th>prod_cat</th>\n",
       "      <th>Qty</th>\n",
       "    </tr>\n",
       "  </thead>\n",
       "  <tbody>\n",
       "    <tr>\n",
       "      <th>0</th>\n",
       "      <td>F</td>\n",
       "      <td>Bags</td>\n",
       "      <td>2362</td>\n",
       "    </tr>\n",
       "    <tr>\n",
       "      <th>1</th>\n",
       "      <td>F</td>\n",
       "      <td>Books</td>\n",
       "      <td>7070</td>\n",
       "    </tr>\n",
       "    <tr>\n",
       "      <th>2</th>\n",
       "      <td>F</td>\n",
       "      <td>Clothing</td>\n",
       "      <td>3425</td>\n",
       "    </tr>\n",
       "    <tr>\n",
       "      <th>3</th>\n",
       "      <td>F</td>\n",
       "      <td>Electronics</td>\n",
       "      <td>5832</td>\n",
       "    </tr>\n",
       "    <tr>\n",
       "      <th>4</th>\n",
       "      <td>F</td>\n",
       "      <td>Footwear</td>\n",
       "      <td>3716</td>\n",
       "    </tr>\n",
       "    <tr>\n",
       "      <th>5</th>\n",
       "      <td>F</td>\n",
       "      <td>Home and kitchen</td>\n",
       "      <td>4895</td>\n",
       "    </tr>\n",
       "    <tr>\n",
       "      <th>6</th>\n",
       "      <td>M</td>\n",
       "      <td>Bags</td>\n",
       "      <td>2346</td>\n",
       "    </tr>\n",
       "    <tr>\n",
       "      <th>7</th>\n",
       "      <td>M</td>\n",
       "      <td>Books</td>\n",
       "      <td>7587</td>\n",
       "    </tr>\n",
       "    <tr>\n",
       "      <th>8</th>\n",
       "      <td>M</td>\n",
       "      <td>Clothing</td>\n",
       "      <td>3748</td>\n",
       "    </tr>\n",
       "    <tr>\n",
       "      <th>9</th>\n",
       "      <td>M</td>\n",
       "      <td>Electronics</td>\n",
       "      <td>6476</td>\n",
       "    </tr>\n",
       "    <tr>\n",
       "      <th>10</th>\n",
       "      <td>M</td>\n",
       "      <td>Footwear</td>\n",
       "      <td>3555</td>\n",
       "    </tr>\n",
       "    <tr>\n",
       "      <th>11</th>\n",
       "      <td>M</td>\n",
       "      <td>Home and kitchen</td>\n",
       "      <td>5041</td>\n",
       "    </tr>\n",
       "  </tbody>\n",
       "</table>\n",
       "</div>"
      ],
      "text/plain": [
       "   Gender          prod_cat   Qty\n",
       "0       F              Bags  2362\n",
       "1       F             Books  7070\n",
       "2       F          Clothing  3425\n",
       "3       F       Electronics  5832\n",
       "4       F          Footwear  3716\n",
       "5       F  Home and kitchen  4895\n",
       "6       M              Bags  2346\n",
       "7       M             Books  7587\n",
       "8       M          Clothing  3748\n",
       "9       M       Electronics  6476\n",
       "10      M          Footwear  3555\n",
       "11      M  Home and kitchen  5041"
      ]
     },
     "execution_count": 33,
     "metadata": {},
     "output_type": "execute_result"
    }
   ],
   "source": [
    "Customer_Final.groupby([\"Gender\",\"prod_cat\"])[[\"Qty\"]].sum().reset_index()"
   ]
  },
  {
   "cell_type": "markdown",
   "id": "ae23edc1",
   "metadata": {},
   "source": [
    "### 6. Which City code has the maximum customers and what was the percentage of customers from that city?"
   ]
  },
  {
   "cell_type": "code",
   "execution_count": 34,
   "id": "a491b8d3",
   "metadata": {},
   "outputs": [
    {
     "data": {
      "text/html": [
       "<div>\n",
       "<style scoped>\n",
       "    .dataframe tbody tr th:only-of-type {\n",
       "        vertical-align: middle;\n",
       "    }\n",
       "\n",
       "    .dataframe tbody tr th {\n",
       "        vertical-align: top;\n",
       "    }\n",
       "\n",
       "    .dataframe thead th {\n",
       "        text-align: right;\n",
       "    }\n",
       "</style>\n",
       "<table border=\"1\" class=\"dataframe\">\n",
       "  <thead>\n",
       "    <tr style=\"text-align: right;\">\n",
       "      <th></th>\n",
       "      <th>city_code</th>\n",
       "      <th>customer_Id</th>\n",
       "    </tr>\n",
       "  </thead>\n",
       "  <tbody>\n",
       "    <tr>\n",
       "      <th>3</th>\n",
       "      <td>4.0</td>\n",
       "      <td>2422</td>\n",
       "    </tr>\n",
       "    <tr>\n",
       "      <th>2</th>\n",
       "      <td>3.0</td>\n",
       "      <td>2411</td>\n",
       "    </tr>\n",
       "    <tr>\n",
       "      <th>4</th>\n",
       "      <td>5.0</td>\n",
       "      <td>2360</td>\n",
       "    </tr>\n",
       "    <tr>\n",
       "      <th>6</th>\n",
       "      <td>7.0</td>\n",
       "      <td>2356</td>\n",
       "    </tr>\n",
       "    <tr>\n",
       "      <th>9</th>\n",
       "      <td>10.0</td>\n",
       "      <td>2333</td>\n",
       "    </tr>\n",
       "    <tr>\n",
       "      <th>7</th>\n",
       "      <td>8.0</td>\n",
       "      <td>2330</td>\n",
       "    </tr>\n",
       "    <tr>\n",
       "      <th>1</th>\n",
       "      <td>2.0</td>\n",
       "      <td>2270</td>\n",
       "    </tr>\n",
       "    <tr>\n",
       "      <th>0</th>\n",
       "      <td>1.0</td>\n",
       "      <td>2258</td>\n",
       "    </tr>\n",
       "    <tr>\n",
       "      <th>8</th>\n",
       "      <td>9.0</td>\n",
       "      <td>2178</td>\n",
       "    </tr>\n",
       "    <tr>\n",
       "      <th>5</th>\n",
       "      <td>6.0</td>\n",
       "      <td>2127</td>\n",
       "    </tr>\n",
       "  </tbody>\n",
       "</table>\n",
       "</div>"
      ],
      "text/plain": [
       "   city_code  customer_Id\n",
       "3        4.0         2422\n",
       "2        3.0         2411\n",
       "4        5.0         2360\n",
       "6        7.0         2356\n",
       "9       10.0         2333\n",
       "7        8.0         2330\n",
       "1        2.0         2270\n",
       "0        1.0         2258\n",
       "8        9.0         2178\n",
       "5        6.0         2127"
      ]
     },
     "execution_count": 34,
     "metadata": {},
     "output_type": "execute_result"
    }
   ],
   "source": [
    "cust_6=Customer_Final.groupby([\"city_code\"])[[\"customer_Id\"]].count().reset_index().sort_values(by='customer_Id',ascending =False)\n",
    "cust_6"
   ]
  },
  {
   "cell_type": "code",
   "execution_count": 35,
   "id": "3f2cfc19",
   "metadata": {},
   "outputs": [
    {
     "data": {
      "text/plain": [
       "<Figure size 576x360 with 0 Axes>"
      ]
     },
     "metadata": {},
     "output_type": "display_data"
    },
    {
     "data": {
      "image/png": "[encoded data removed]",
      "text/plain": [
       "<Figure size 432x288 with 1 Axes>"
      ]
     },
     "metadata": {
      "needs_background": "light"
     },
     "output_type": "display_data"
    }
   ],
   "source": [
    "plt.figure(figsize=(8,5))\n",
    "cust_6.plot(kind=\"bar\")\n",
    "plt.xlabel(\"City Code\")\n",
    "plt.ylabel(\"No. of customers\")\n",
    "plt.yticks(np.arange(0, 3500, step=500))\n",
    "plt.show()"
   ]
  },
  {
   "cell_type": "code",
   "execution_count": 36,
   "id": "dddd31bf",
   "metadata": {},
   "outputs": [],
   "source": [
    "percentage = round((cust_6.loc[3,['customer_Id']] / cust_6.customer_Id.sum()) * 100,2)"
   ]
  },
  {
   "cell_type": "code",
   "execution_count": 37,
   "id": "306f4f8b",
   "metadata": {},
   "outputs": [
    {
     "data": {
      "text/plain": [
       "10.51"
      ]
     },
     "execution_count": 37,
     "metadata": {},
     "output_type": "execute_result"
    }
   ],
   "source": [
    "percentage.loc['customer_Id']"
   ]
  },
  {
   "cell_type": "code",
   "execution_count": 38,
   "id": "9b645a92",
   "metadata": {},
   "outputs": [
    {
     "name": "stdout",
     "output_type": "stream",
     "text": [
      "City code 4.0 has the maximum customers and the percentage of customers from that city is: 10.51\n"
     ]
    }
   ],
   "source": [
    "print(\"City code 4.0 has the maximum customers and the percentage of customers from that city is:\",percentage.loc['customer_Id'])"
   ]
  },
  {
   "cell_type": "markdown",
   "id": "a390f8c9",
   "metadata": {},
   "source": [
    "### 7. Which store type sells the maximum products by value and by quantity?"
   ]
  },
  {
   "cell_type": "code",
   "execution_count": 39,
   "id": "e1d365e2",
   "metadata": {},
   "outputs": [
    {
     "data": {
      "text/html": [
       "<div>\n",
       "<style scoped>\n",
       "    .dataframe tbody tr th:only-of-type {\n",
       "        vertical-align: middle;\n",
       "    }\n",
       "\n",
       "    .dataframe tbody tr th {\n",
       "        vertical-align: top;\n",
       "    }\n",
       "\n",
       "    .dataframe thead th {\n",
       "        text-align: right;\n",
       "    }\n",
       "</style>\n",
       "<table border=\"1\" class=\"dataframe\">\n",
       "  <thead>\n",
       "    <tr style=\"text-align: right;\">\n",
       "      <th></th>\n",
       "      <th>customer_Id</th>\n",
       "      <th>DOB</th>\n",
       "      <th>Gender</th>\n",
       "      <th>city_code</th>\n",
       "      <th>transaction_id</th>\n",
       "      <th>tran_date</th>\n",
       "      <th>prod_subcat_code</th>\n",
       "      <th>prod_cat_code</th>\n",
       "      <th>Qty</th>\n",
       "      <th>Rate</th>\n",
       "      <th>Tax</th>\n",
       "      <th>total_amt</th>\n",
       "      <th>Store_type</th>\n",
       "      <th>prod_cat</th>\n",
       "      <th>prod_subcat</th>\n",
       "    </tr>\n",
       "  </thead>\n",
       "  <tbody>\n",
       "    <tr>\n",
       "      <th>0</th>\n",
       "      <td>270351</td>\n",
       "      <td>1981-09-26</td>\n",
       "      <td>M</td>\n",
       "      <td>5.0</td>\n",
       "      <td>80712190438</td>\n",
       "      <td>2014-02-28</td>\n",
       "      <td>1</td>\n",
       "      <td>1</td>\n",
       "      <td>-5</td>\n",
       "      <td>-772</td>\n",
       "      <td>405.3</td>\n",
       "      <td>-4265.3</td>\n",
       "      <td>e-Shop</td>\n",
       "      <td>Clothing</td>\n",
       "      <td>Women</td>\n",
       "    </tr>\n",
       "  </tbody>\n",
       "</table>\n",
       "</div>"
      ],
      "text/plain": [
       "   customer_Id        DOB Gender  city_code  transaction_id  tran_date  \\\n",
       "0       270351 1981-09-26      M        5.0     80712190438 2014-02-28   \n",
       "\n",
       "   prod_subcat_code  prod_cat_code  Qty  Rate    Tax  total_amt Store_type  \\\n",
       "0                 1              1   -5  -772  405.3    -4265.3     e-Shop   \n",
       "\n",
       "   prod_cat prod_subcat  \n",
       "0  Clothing       Women  "
      ]
     },
     "execution_count": 39,
     "metadata": {},
     "output_type": "execute_result"
    }
   ],
   "source": [
    "Customer_Final.head(1)"
   ]
  },
  {
   "cell_type": "code",
   "execution_count": 40,
   "id": "fb696626",
   "metadata": {},
   "outputs": [
    {
     "data": {
      "text/plain": [
       "'e-Shop'"
      ]
     },
     "execution_count": 40,
     "metadata": {},
     "output_type": "execute_result"
    }
   ],
   "source": [
    "max_value=Customer_Final.groupby(['Store_type'])[['total_amt']].sum().reset_index().sort_values(by='total_amt',ascending =False)\n",
    "max_value.iloc[0, 0]"
   ]
  },
  {
   "cell_type": "code",
   "execution_count": 41,
   "id": "17ef331e",
   "metadata": {},
   "outputs": [
    {
     "data": {
      "text/plain": [
       "'e-Shop'"
      ]
     },
     "execution_count": 41,
     "metadata": {},
     "output_type": "execute_result"
    }
   ],
   "source": [
    "max_qty = Customer_Final.groupby(['Store_type'])[['Qty']].sum().reset_index().sort_values(by = 'Qty', ascending=False)\n",
    "max_qty.iloc[0, 0]"
   ]
  },
  {
   "cell_type": "markdown",
   "id": "65a0b6bc",
   "metadata": {},
   "source": [
    "### 8. What was the total amount earned from the \"Electronics\" and \"Clothing\" categories from Flagship Stores?"
   ]
  },
  {
   "cell_type": "code",
   "execution_count": 42,
   "id": "f40c9766",
   "metadata": {},
   "outputs": [
    {
     "data": {
      "text/plain": [
       "11916886.865"
      ]
     },
     "execution_count": 42,
     "metadata": {},
     "output_type": "execute_result"
    }
   ],
   "source": [
    "Customer_Final.loc[(Customer_Final.prod_cat == 'Electronics')|(Customer_Final.prod_cat =='Clothing') & (Customer_Final.Store_type == 'Flagship store'), 'total_amt'].sum()"
   ]
  },
  {
   "cell_type": "code",
   "execution_count": 43,
   "id": "6a0b7a78",
   "metadata": {},
   "outputs": [
    {
     "data": {
      "text/plain": [
       "2215136.04"
      ]
     },
     "execution_count": 43,
     "metadata": {},
     "output_type": "execute_result"
    }
   ],
   "source": [
    "Customer_Final.loc[(Customer_Final.prod_cat == 'Electronics') & (Customer_Final.Store_type == 'Flagship store'), 'total_amt'].sum()"
   ]
  },
  {
   "cell_type": "code",
   "execution_count": 44,
   "id": "47b92b2d",
   "metadata": {},
   "outputs": [
    {
     "data": {
      "text/plain": [
       "1194423.23"
      ]
     },
     "execution_count": 44,
     "metadata": {},
     "output_type": "execute_result"
    }
   ],
   "source": [
    "Customer_Final.loc[(Customer_Final.prod_cat =='Clothing') & (Customer_Final.Store_type == 'Flagship store'), 'total_amt'].sum()"
   ]
  },
  {
   "cell_type": "code",
   "execution_count": 45,
   "id": "0f065713",
   "metadata": {},
   "outputs": [
    {
     "data": {
      "text/html": [
       "<div>\n",
       "<style scoped>\n",
       "    .dataframe tbody tr th:only-of-type {\n",
       "        vertical-align: middle;\n",
       "    }\n",
       "\n",
       "    .dataframe tbody tr th {\n",
       "        vertical-align: top;\n",
       "    }\n",
       "\n",
       "    .dataframe thead th {\n",
       "        text-align: right;\n",
       "    }\n",
       "</style>\n",
       "<table border=\"1\" class=\"dataframe\">\n",
       "  <thead>\n",
       "    <tr style=\"text-align: right;\">\n",
       "      <th>Store_type</th>\n",
       "      <th>Flagship store</th>\n",
       "      <th>MBR</th>\n",
       "      <th>TeleShop</th>\n",
       "      <th>e-Shop</th>\n",
       "    </tr>\n",
       "    <tr>\n",
       "      <th>prod_cat</th>\n",
       "      <th></th>\n",
       "      <th></th>\n",
       "      <th></th>\n",
       "      <th></th>\n",
       "    </tr>\n",
       "  </thead>\n",
       "  <tbody>\n",
       "    <tr>\n",
       "      <th>Bags</th>\n",
       "      <td>870548.84</td>\n",
       "      <td>848678.67</td>\n",
       "      <td>789181.06</td>\n",
       "      <td>1616300.08</td>\n",
       "    </tr>\n",
       "    <tr>\n",
       "      <th>Books</th>\n",
       "      <td>2488205.85</td>\n",
       "      <td>2496039.20</td>\n",
       "      <td>2545005.06</td>\n",
       "      <td>5293443.93</td>\n",
       "    </tr>\n",
       "    <tr>\n",
       "      <th>Clothing</th>\n",
       "      <td>1194423.23</td>\n",
       "      <td>1287686.34</td>\n",
       "      <td>1241834.36</td>\n",
       "      <td>2527193.56</td>\n",
       "    </tr>\n",
       "    <tr>\n",
       "      <th>Electronics</th>\n",
       "      <td>2215136.04</td>\n",
       "      <td>2107514.56</td>\n",
       "      <td>1973338.83</td>\n",
       "      <td>4426474.19</td>\n",
       "    </tr>\n",
       "    <tr>\n",
       "      <th>Footwear</th>\n",
       "      <td>1234806.56</td>\n",
       "      <td>1112163.72</td>\n",
       "      <td>1235719.29</td>\n",
       "      <td>2637084.71</td>\n",
       "    </tr>\n",
       "    <tr>\n",
       "      <th>Home and kitchen</th>\n",
       "      <td>1712567.68</td>\n",
       "      <td>1822403.57</td>\n",
       "      <td>1579702.47</td>\n",
       "      <td>3324319.57</td>\n",
       "    </tr>\n",
       "  </tbody>\n",
       "</table>\n",
       "</div>"
      ],
      "text/plain": [
       "Store_type        Flagship store         MBR    TeleShop      e-Shop\n",
       "prod_cat                                                            \n",
       "Bags                   870548.84   848678.67   789181.06  1616300.08\n",
       "Books                 2488205.85  2496039.20  2545005.06  5293443.93\n",
       "Clothing              1194423.23  1287686.34  1241834.36  2527193.56\n",
       "Electronics           2215136.04  2107514.56  1973338.83  4426474.19\n",
       "Footwear              1234806.56  1112163.72  1235719.29  2637084.71\n",
       "Home and kitchen      1712567.68  1822403.57  1579702.47  3324319.57"
      ]
     },
     "execution_count": 45,
     "metadata": {},
     "output_type": "execute_result"
    }
   ],
   "source": [
    "piv_tab = round(Customer_Final.pivot_table(index = \"prod_cat\",\n",
    "                                               columns=\"Store_type\", \n",
    "                                               values=\"total_amt\", \n",
    "                                               aggfunc='sum'),2)\n",
    "piv_tab"
   ]
  },
  {
   "cell_type": "code",
   "execution_count": 46,
   "id": "d7479096",
   "metadata": {},
   "outputs": [
    {
     "name": "stdout",
     "output_type": "stream",
     "text": [
      "Total amount of both Clothing and Electronics from Flagship Store: 3409559.27\n"
     ]
    }
   ],
   "source": [
    "total = piv_tab.loc[[\"Clothing\",\"Electronics\"],\"Flagship store\"].sum()\n",
    "print('Total amount of both Clothing and Electronics from Flagship Store:',total)"
   ]
  },
  {
   "cell_type": "markdown",
   "id": "019e2d94",
   "metadata": {},
   "source": [
    "### 9. What was the total amount earned from \"Male\" customers under the \"Electronics\" category?"
   ]
  },
  {
   "cell_type": "code",
   "execution_count": 47,
   "id": "1c4a2a66",
   "metadata": {},
   "outputs": [
    {
     "data": {
      "text/html": [
       "<div>\n",
       "<style scoped>\n",
       "    .dataframe tbody tr th:only-of-type {\n",
       "        vertical-align: middle;\n",
       "    }\n",
       "\n",
       "    .dataframe tbody tr th {\n",
       "        vertical-align: top;\n",
       "    }\n",
       "\n",
       "    .dataframe thead th {\n",
       "        text-align: right;\n",
       "    }\n",
       "</style>\n",
       "<table border=\"1\" class=\"dataframe\">\n",
       "  <thead>\n",
       "    <tr style=\"text-align: right;\">\n",
       "      <th>Gender</th>\n",
       "      <th>F</th>\n",
       "      <th>M</th>\n",
       "    </tr>\n",
       "    <tr>\n",
       "      <th>prod_cat</th>\n",
       "      <th></th>\n",
       "      <th></th>\n",
       "    </tr>\n",
       "  </thead>\n",
       "  <tbody>\n",
       "    <tr>\n",
       "      <th>Bags</th>\n",
       "      <td>2077985.65</td>\n",
       "      <td>2046722.99</td>\n",
       "    </tr>\n",
       "    <tr>\n",
       "      <th>Books</th>\n",
       "      <td>6164692.24</td>\n",
       "      <td>6645972.78</td>\n",
       "    </tr>\n",
       "    <tr>\n",
       "      <th>Clothing</th>\n",
       "      <td>3026750.80</td>\n",
       "      <td>3224079.50</td>\n",
       "    </tr>\n",
       "    <tr>\n",
       "      <th>Electronics</th>\n",
       "      <td>5019354.21</td>\n",
       "      <td>5703109.43</td>\n",
       "    </tr>\n",
       "    <tr>\n",
       "      <th>Footwear</th>\n",
       "      <td>3202552.99</td>\n",
       "      <td>3014672.05</td>\n",
       "    </tr>\n",
       "    <tr>\n",
       "      <th>Home and kitchen</th>\n",
       "      <td>4132177.34</td>\n",
       "      <td>4301075.48</td>\n",
       "    </tr>\n",
       "  </tbody>\n",
       "</table>\n",
       "</div>"
      ],
      "text/plain": [
       "Gender                     F           M\n",
       "prod_cat                                \n",
       "Bags              2077985.65  2046722.99\n",
       "Books             6164692.24  6645972.78\n",
       "Clothing          3026750.80  3224079.50\n",
       "Electronics       5019354.21  5703109.43\n",
       "Footwear          3202552.99  3014672.05\n",
       "Home and kitchen  4132177.34  4301075.48"
      ]
     },
     "execution_count": 47,
     "metadata": {},
     "output_type": "execute_result"
    }
   ],
   "source": [
    "piv= round(Customer_Final.pivot_table(index='prod_cat',\n",
    "                               columns='Gender',\n",
    "                               values='total_amt',\n",
    "                               aggfunc='sum'),2)\n",
    "piv"
   ]
  },
  {
   "cell_type": "code",
   "execution_count": 48,
   "id": "b80283bd",
   "metadata": {},
   "outputs": [
    {
     "name": "stdout",
     "output_type": "stream",
     "text": [
      "the total amount earned from \"Male\" customers under the \"Electronics\" category: 5703109.43\n"
     ]
    }
   ],
   "source": [
    "total = piv.loc['Electronics','M']\n",
    "print('the total amount earned from \"Male\" customers under the \"Electronics\" category:',total)"
   ]
  },
  {
   "cell_type": "markdown",
   "id": "271e5fcc",
   "metadata": {},
   "source": [
    "### 10. How many customers have more than 10 unique transactions, after removing all transactions which have any negative amounts?"
   ]
  },
  {
   "cell_type": "code",
   "execution_count": 49,
   "id": "86324414",
   "metadata": {},
   "outputs": [],
   "source": [
    "Cust_pos = Customer_Final.loc[Customer_Final.total_amt>0]"
   ]
  },
  {
   "cell_type": "code",
   "execution_count": 50,
   "id": "e10edd8a",
   "metadata": {},
   "outputs": [
    {
     "data": {
      "text/html": [
       "<div>\n",
       "<style scoped>\n",
       "    .dataframe tbody tr th:only-of-type {\n",
       "        vertical-align: middle;\n",
       "    }\n",
       "\n",
       "    .dataframe tbody tr th {\n",
       "        vertical-align: top;\n",
       "    }\n",
       "\n",
       "    .dataframe thead th {\n",
       "        text-align: right;\n",
       "    }\n",
       "</style>\n",
       "<table border=\"1\" class=\"dataframe\">\n",
       "  <thead>\n",
       "    <tr style=\"text-align: right;\">\n",
       "      <th></th>\n",
       "      <th>customer_Id</th>\n",
       "      <th>prod_cat</th>\n",
       "      <th>prod_subcat</th>\n",
       "      <th>transaction_id</th>\n",
       "    </tr>\n",
       "  </thead>\n",
       "  <tbody>\n",
       "    <tr>\n",
       "      <th>0</th>\n",
       "      <td>266783</td>\n",
       "      <td>Books</td>\n",
       "      <td>Non-Fiction</td>\n",
       "      <td>1</td>\n",
       "    </tr>\n",
       "    <tr>\n",
       "      <th>1</th>\n",
       "      <td>266783</td>\n",
       "      <td>Clothing</td>\n",
       "      <td>Mens</td>\n",
       "      <td>2</td>\n",
       "    </tr>\n",
       "    <tr>\n",
       "      <th>2</th>\n",
       "      <td>266783</td>\n",
       "      <td>Footwear</td>\n",
       "      <td>Mens</td>\n",
       "      <td>1</td>\n",
       "    </tr>\n",
       "    <tr>\n",
       "      <th>3</th>\n",
       "      <td>266784</td>\n",
       "      <td>Books</td>\n",
       "      <td>Fiction</td>\n",
       "      <td>1</td>\n",
       "    </tr>\n",
       "    <tr>\n",
       "      <th>4</th>\n",
       "      <td>266784</td>\n",
       "      <td>Books</td>\n",
       "      <td>Non-Fiction</td>\n",
       "      <td>1</td>\n",
       "    </tr>\n",
       "    <tr>\n",
       "      <th>...</th>\n",
       "      <td>...</td>\n",
       "      <td>...</td>\n",
       "      <td>...</td>\n",
       "      <td>...</td>\n",
       "    </tr>\n",
       "    <tr>\n",
       "      <th>19273</th>\n",
       "      <td>275264</td>\n",
       "      <td>Books</td>\n",
       "      <td>Non-Fiction</td>\n",
       "      <td>1</td>\n",
       "    </tr>\n",
       "    <tr>\n",
       "      <th>19274</th>\n",
       "      <td>275264</td>\n",
       "      <td>Home and kitchen</td>\n",
       "      <td>Tools</td>\n",
       "      <td>1</td>\n",
       "    </tr>\n",
       "    <tr>\n",
       "      <th>19275</th>\n",
       "      <td>275265</td>\n",
       "      <td>Bags</td>\n",
       "      <td>Mens</td>\n",
       "      <td>1</td>\n",
       "    </tr>\n",
       "    <tr>\n",
       "      <th>19276</th>\n",
       "      <td>275265</td>\n",
       "      <td>Books</td>\n",
       "      <td>Academic</td>\n",
       "      <td>1</td>\n",
       "    </tr>\n",
       "    <tr>\n",
       "      <th>19277</th>\n",
       "      <td>275265</td>\n",
       "      <td>Home and kitchen</td>\n",
       "      <td>Furnishing</td>\n",
       "      <td>1</td>\n",
       "    </tr>\n",
       "  </tbody>\n",
       "</table>\n",
       "<p>19278 rows × 4 columns</p>\n",
       "</div>"
      ],
      "text/plain": [
       "       customer_Id          prod_cat  prod_subcat  transaction_id\n",
       "0           266783             Books  Non-Fiction               1\n",
       "1           266783          Clothing         Mens               2\n",
       "2           266783          Footwear         Mens               1\n",
       "3           266784             Books      Fiction               1\n",
       "4           266784             Books  Non-Fiction               1\n",
       "...            ...               ...          ...             ...\n",
       "19273       275264             Books  Non-Fiction               1\n",
       "19274       275264  Home and kitchen        Tools               1\n",
       "19275       275265              Bags         Mens               1\n",
       "19276       275265             Books     Academic               1\n",
       "19277       275265  Home and kitchen   Furnishing               1\n",
       "\n",
       "[19278 rows x 4 columns]"
      ]
     },
     "execution_count": 50,
     "metadata": {},
     "output_type": "execute_result"
    }
   ],
   "source": [
    "trans_count = Cust_pos.groupby(['customer_Id','prod_cat','prod_subcat'])['transaction_id'].count().reset_index()\n",
    "trans_count"
   ]
  },
  {
   "cell_type": "code",
   "execution_count": 51,
   "id": "20c027b8",
   "metadata": {},
   "outputs": [
    {
     "data": {
      "text/html": [
       "<div>\n",
       "<style scoped>\n",
       "    .dataframe tbody tr th:only-of-type {\n",
       "        vertical-align: middle;\n",
       "    }\n",
       "\n",
       "    .dataframe tbody tr th {\n",
       "        vertical-align: top;\n",
       "    }\n",
       "\n",
       "    .dataframe thead th {\n",
       "        text-align: right;\n",
       "    }\n",
       "</style>\n",
       "<table border=\"1\" class=\"dataframe\">\n",
       "  <thead>\n",
       "    <tr style=\"text-align: right;\">\n",
       "      <th></th>\n",
       "      <th>customer_Id</th>\n",
       "      <th>transaction_id</th>\n",
       "    </tr>\n",
       "  </thead>\n",
       "  <tbody>\n",
       "    <tr>\n",
       "      <th>0</th>\n",
       "      <td>266783</td>\n",
       "      <td>4</td>\n",
       "    </tr>\n",
       "    <tr>\n",
       "      <th>1</th>\n",
       "      <td>266784</td>\n",
       "      <td>3</td>\n",
       "    </tr>\n",
       "    <tr>\n",
       "      <th>2</th>\n",
       "      <td>266785</td>\n",
       "      <td>7</td>\n",
       "    </tr>\n",
       "    <tr>\n",
       "      <th>3</th>\n",
       "      <td>266788</td>\n",
       "      <td>4</td>\n",
       "    </tr>\n",
       "    <tr>\n",
       "      <th>4</th>\n",
       "      <td>266794</td>\n",
       "      <td>11</td>\n",
       "    </tr>\n",
       "    <tr>\n",
       "      <th>...</th>\n",
       "      <td>...</td>\n",
       "      <td>...</td>\n",
       "    </tr>\n",
       "    <tr>\n",
       "      <th>5501</th>\n",
       "      <td>275257</td>\n",
       "      <td>4</td>\n",
       "    </tr>\n",
       "    <tr>\n",
       "      <th>5502</th>\n",
       "      <td>275261</td>\n",
       "      <td>3</td>\n",
       "    </tr>\n",
       "    <tr>\n",
       "      <th>5503</th>\n",
       "      <td>275262</td>\n",
       "      <td>2</td>\n",
       "    </tr>\n",
       "    <tr>\n",
       "      <th>5504</th>\n",
       "      <td>275264</td>\n",
       "      <td>2</td>\n",
       "    </tr>\n",
       "    <tr>\n",
       "      <th>5505</th>\n",
       "      <td>275265</td>\n",
       "      <td>3</td>\n",
       "    </tr>\n",
       "  </tbody>\n",
       "</table>\n",
       "<p>5506 rows × 2 columns</p>\n",
       "</div>"
      ],
      "text/plain": [
       "      customer_Id  transaction_id\n",
       "0          266783               4\n",
       "1          266784               3\n",
       "2          266785               7\n",
       "3          266788               4\n",
       "4          266794              11\n",
       "...           ...             ...\n",
       "5501       275257               4\n",
       "5502       275261               3\n",
       "5503       275262               2\n",
       "5504       275264               2\n",
       "5505       275265               3\n",
       "\n",
       "[5506 rows x 2 columns]"
      ]
     },
     "execution_count": 51,
     "metadata": {},
     "output_type": "execute_result"
    }
   ],
   "source": [
    "unique_trans_count=trans_count.groupby('customer_Id')['transaction_id'].sum().reset_index()\n",
    "unique_trans_count"
   ]
  },
  {
   "cell_type": "code",
   "execution_count": 52,
   "id": "ad473be9",
   "metadata": {},
   "outputs": [],
   "source": [
    "cnt=unique_trans_count.loc[unique_trans_count.transaction_id > 10,'customer_Id'].count()"
   ]
  },
  {
   "cell_type": "code",
   "execution_count": 53,
   "id": "9e36afc3",
   "metadata": {},
   "outputs": [
    {
     "name": "stdout",
     "output_type": "stream",
     "text": [
      "There are  6 customers who have more than 10 unique transactions, excluding all transactions which have negative amounts\n"
     ]
    }
   ],
   "source": [
    "print('There are ',cnt,'customers who have more than 10 unique transactions, excluding all transactions which have negative amounts')"
   ]
  },
  {
   "cell_type": "markdown",
   "id": "bbf5e022",
   "metadata": {},
   "source": [
    "### 11. For all customers aged between 25 - 35, find out:\n",
    "#### a. What was the total amount spent for “Electronics” and “Books” product categories?"
   ]
  },
  {
   "cell_type": "code",
   "execution_count": 54,
   "id": "6e21514d",
   "metadata": {},
   "outputs": [],
   "source": [
    "now = pd.Timestamp('now')"
   ]
  },
  {
   "cell_type": "code",
   "execution_count": 55,
   "id": "c69f5745",
   "metadata": {},
   "outputs": [],
   "source": [
    "Customer_Final['AGE'] = (now - Customer_Final['DOB']).astype('<m8[Y]')"
   ]
  },
  {
   "cell_type": "code",
   "execution_count": 56,
   "id": "9295ca68",
   "metadata": {},
   "outputs": [],
   "source": [
    "Customer_Final['AGE'] = Customer_Final['AGE'].astype('int')"
   ]
  },
  {
   "cell_type": "code",
   "execution_count": 57,
   "id": "75e99be0",
   "metadata": {},
   "outputs": [
    {
     "data": {
      "text/plain": [
       "52"
      ]
     },
     "execution_count": 57,
     "metadata": {},
     "output_type": "execute_result"
    }
   ],
   "source": [
    "Customer_Final['AGE'].max()"
   ]
  },
  {
   "cell_type": "code",
   "execution_count": 63,
   "id": "4d9723ad",
   "metadata": {},
   "outputs": [],
   "source": [
    "Customer_Final['Age_cat'] = pd.cut(Customer_Final['AGE'],\n",
    "                                   bins=[24,35,46,57],\n",
    "                                   labels=['25-35','36-46','47-57'],\n",
    "                                   include_lowest=True)"
   ]
  },
  {
   "cell_type": "code",
   "execution_count": 69,
   "id": "f76d1a6e",
   "metadata": {},
   "outputs": [
    {
     "data": {
      "text/html": [
       "<div>\n",
       "<style scoped>\n",
       "    .dataframe tbody tr th:only-of-type {\n",
       "        vertical-align: middle;\n",
       "    }\n",
       "\n",
       "    .dataframe tbody tr th {\n",
       "        vertical-align: top;\n",
       "    }\n",
       "\n",
       "    .dataframe thead th {\n",
       "        text-align: right;\n",
       "    }\n",
       "</style>\n",
       "<table border=\"1\" class=\"dataframe\">\n",
       "  <thead>\n",
       "    <tr style=\"text-align: right;\">\n",
       "      <th>Age_cat</th>\n",
       "      <th>25-35</th>\n",
       "      <th>36-46</th>\n",
       "      <th>47-57</th>\n",
       "    </tr>\n",
       "    <tr>\n",
       "      <th>prod_cat</th>\n",
       "      <th></th>\n",
       "      <th></th>\n",
       "      <th></th>\n",
       "    </tr>\n",
       "  </thead>\n",
       "  <tbody>\n",
       "    <tr>\n",
       "      <th>Bags</th>\n",
       "      <td>1135536.68</td>\n",
       "      <td>1938198.73</td>\n",
       "      <td>1050973.24</td>\n",
       "    </tr>\n",
       "    <tr>\n",
       "      <th>Books</th>\n",
       "      <td>3432313.43</td>\n",
       "      <td>6368689.60</td>\n",
       "      <td>3021691.01</td>\n",
       "    </tr>\n",
       "    <tr>\n",
       "      <th>Clothing</th>\n",
       "      <td>1965896.66</td>\n",
       "      <td>2926133.93</td>\n",
       "      <td>1359106.91</td>\n",
       "    </tr>\n",
       "    <tr>\n",
       "      <th>Electronics</th>\n",
       "      <td>3144139.37</td>\n",
       "      <td>4991132.51</td>\n",
       "      <td>2587191.75</td>\n",
       "    </tr>\n",
       "    <tr>\n",
       "      <th>Footwear</th>\n",
       "      <td>1885573.10</td>\n",
       "      <td>2897566.36</td>\n",
       "      <td>1436634.81</td>\n",
       "    </tr>\n",
       "    <tr>\n",
       "      <th>Home and kitchen</th>\n",
       "      <td>2461357.66</td>\n",
       "      <td>4092766.41</td>\n",
       "      <td>1884869.22</td>\n",
       "    </tr>\n",
       "  </tbody>\n",
       "</table>\n",
       "</div>"
      ],
      "text/plain": [
       "Age_cat                25-35       36-46       47-57\n",
       "prod_cat                                            \n",
       "Bags              1135536.68  1938198.73  1050973.24\n",
       "Books             3432313.43  6368689.60  3021691.01\n",
       "Clothing          1965896.66  2926133.93  1359106.91\n",
       "Electronics       3144139.37  4991132.51  2587191.75\n",
       "Footwear          1885573.10  2897566.36  1436634.81\n",
       "Home and kitchen  2461357.66  4092766.41  1884869.22"
      ]
     },
     "execution_count": 69,
     "metadata": {},
     "output_type": "execute_result"
    }
   ],
   "source": [
    "piv=round(Customer_Final.pivot_table(index='prod_cat',\n",
    "                          columns='Age_cat',\n",
    "                          values='total_amt',\n",
    "                          aggfunc='sum'),2)\n",
    "piv"
   ]
  },
  {
   "cell_type": "code",
   "execution_count": 73,
   "id": "65410fdf",
   "metadata": {},
   "outputs": [
    {
     "name": "stdout",
     "output_type": "stream",
     "text": [
      "Total amount spent for “Electronics” and “Books” product categories for all customers aged between 25-35: 6576452.8\n"
     ]
    }
   ],
   "source": [
    "print('Total amount spent for “Electronics” and “Books” product categories for all customers aged between 25-35:',piv.loc[['Books','Electronics'],'25-35'].sum().round(2))"
   ]
  },
  {
   "cell_type": "markdown",
   "id": "0e52c0d4",
   "metadata": {},
   "source": [
    "### 11. For all customers aged between 25 - 35, find out: \n",
    "#### b. What was the total amount spent by these customers between 1st Jan, 2014 to 1st Mar, 2014?"
   ]
  },
  {
   "cell_type": "code",
   "execution_count": 77,
   "id": "a772c279",
   "metadata": {},
   "outputs": [
    {
     "data": {
      "text/html": [
       "<div>\n",
       "<style scoped>\n",
       "    .dataframe tbody tr th:only-of-type {\n",
       "        vertical-align: middle;\n",
       "    }\n",
       "\n",
       "    .dataframe tbody tr th {\n",
       "        vertical-align: top;\n",
       "    }\n",
       "\n",
       "    .dataframe thead th {\n",
       "        text-align: right;\n",
       "    }\n",
       "</style>\n",
       "<table border=\"1\" class=\"dataframe\">\n",
       "  <thead>\n",
       "    <tr style=\"text-align: right;\">\n",
       "      <th></th>\n",
       "      <th>customer_Id</th>\n",
       "      <th>DOB</th>\n",
       "      <th>Gender</th>\n",
       "      <th>city_code</th>\n",
       "      <th>transaction_id</th>\n",
       "      <th>tran_date</th>\n",
       "      <th>prod_subcat_code</th>\n",
       "      <th>prod_cat_code</th>\n",
       "      <th>Qty</th>\n",
       "      <th>Rate</th>\n",
       "      <th>Tax</th>\n",
       "      <th>total_amt</th>\n",
       "      <th>Store_type</th>\n",
       "      <th>prod_cat</th>\n",
       "      <th>prod_subcat</th>\n",
       "      <th>AGE</th>\n",
       "      <th>Age_cat</th>\n",
       "    </tr>\n",
       "  </thead>\n",
       "  <tbody>\n",
       "    <tr>\n",
       "      <th>0</th>\n",
       "      <td>270351</td>\n",
       "      <td>1981-09-26</td>\n",
       "      <td>M</td>\n",
       "      <td>5.0</td>\n",
       "      <td>80712190438</td>\n",
       "      <td>2014-02-28</td>\n",
       "      <td>1</td>\n",
       "      <td>1</td>\n",
       "      <td>-5</td>\n",
       "      <td>-772</td>\n",
       "      <td>405.3</td>\n",
       "      <td>-4265.3</td>\n",
       "      <td>e-Shop</td>\n",
       "      <td>Clothing</td>\n",
       "      <td>Women</td>\n",
       "      <td>40</td>\n",
       "      <td>36-46</td>\n",
       "    </tr>\n",
       "  </tbody>\n",
       "</table>\n",
       "</div>"
      ],
      "text/plain": [
       "   customer_Id        DOB Gender  city_code  transaction_id  tran_date  \\\n",
       "0       270351 1981-09-26      M        5.0     80712190438 2014-02-28   \n",
       "\n",
       "   prod_subcat_code  prod_cat_code  Qty  Rate    Tax  total_amt Store_type  \\\n",
       "0                 1              1   -5  -772  405.3    -4265.3     e-Shop   \n",
       "\n",
       "   prod_cat prod_subcat  AGE Age_cat  \n",
       "0  Clothing       Women   40   36-46  "
      ]
     },
     "execution_count": 77,
     "metadata": {},
     "output_type": "execute_result"
    }
   ],
   "source": [
    "cust_bet = Customer_Final.loc[(Customer_Final.tran_date>='2014-01-01')&(Customer_Final.tran_date<='2014-04-01')]\n",
    "cust_bet.head(1)"
   ]
  },
  {
   "cell_type": "code",
   "execution_count": 82,
   "id": "81de0482",
   "metadata": {
    "scrolled": true
   },
   "outputs": [],
   "source": [
    "tot= round(cust_bet.loc[cust_bet.Age_cat=='25-35','total_amt'].sum(),2)"
   ]
  },
  {
   "cell_type": "code",
   "execution_count": 83,
   "id": "aee0d0b9",
   "metadata": {},
   "outputs": [
    {
     "name": "stdout",
     "output_type": "stream",
     "text": [
      " total amount spent by these customers between 1st Jan, 2014 to 1st Mar, 2014: 487639.82\n"
     ]
    }
   ],
   "source": [
    "print(' total amount spent by these customers between 1st Jan, 2014 to 1st Mar, 2014:',tot)"
   ]
  },
  {
   "cell_type": "code",
   "execution_count": null,
   "id": "9b6f19e2",
   "metadata": {},
   "outputs": [],
   "source": []
  }
 ],
 "metadata": {
  "kernelspec": {
   "display_name": "Python 3",
   "language": "python",
   "name": "python3"
  },
  "language_info": {
   "codemirror_mode": {
    "name": "ipython",
    "version": 3
   },
   "file_extension": ".py",
   "mimetype": "text/x-python",
   "name": "python",
   "nbconvert_exporter": "python",
   "pygments_lexer": "ipython3",
   "version": "3.8.8"
  }
 },
 "nbformat": 4,
 "nbformat_minor": 5
}
